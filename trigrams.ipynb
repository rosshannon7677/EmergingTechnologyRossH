{
 "cells": [
  {
   "cell_type": "code",
   "execution_count": 6,
   "metadata": {},
   "outputs": [],
   "source": [
    "# Emerging Technology Tasks\n",
    "\n",
    "# Task 1: Building a trigram model from Project Gutenberg books\n",
    "\n",
    "# This project reads and processes five books from Project Gutenberg to build a trigram model.\n",
    "# A trigram is a sequence of three characters\n",
    "# The trigram model counts how often each trigram appears in the text.\n",
    "\n",
    "import re\n",
    "from collections import defaultdict"
   ]
  },
  {
   "cell_type": "code",
   "execution_count": 7,
   "metadata": {},
   "outputs": [],
   "source": [
    "# Paths to the five text files\n",
    "# These represent the text files of the books to be processed\n",
    "file_paths = ['Book1.txt', 'Book2.txt', 'Book3.txt',  'Book4.txt',  'Book5.txt'   \n",
    "]"
   ]
  },
  {
   "cell_type": "code",
   "execution_count": 8,
   "metadata": {},
   "outputs": [],
   "source": [
    "# Function to read text from a file\n",
    "# This function opens the file, reads the entire content, and returns it as a string\n",
    "def read_text(file_path):\n",
    "    with open(file_path, 'r', encoding='utf-8') as file:\n",
    "        return file.read()"
   ]
  },
  {
   "cell_type": "code",
   "execution_count": 9,
   "metadata": {},
   "outputs": [],
   "source": [
    "# Function for cleaning text up\n",
    "# This function removes unnecessary parts of the text, like the preamble and postamble\n",
    "# It also removes all characters such as ASCII letters, spaces, full stops, \n",
    "# It also converts the text to uppercase\n",
    "def clean_text(text):\n",
    "    # Remove preamble and postamble\n",
    "    start = re.search(r'\\*\\*\\* START OF THIS PROJECT GUTENBERG EBOOK .* \\*\\*\\*', text)\n",
    "    end = re.search(r'\\*\\*\\* END OF THIS PROJECT GUTENBERG EBOOK .* \\*\\*\\*', text)\n",
    "    if start and end:\n",
    "        text = text[start.end():end.start()]\n",
    "\n",
    "    # Remove all non-ASCII letters except full stops and spaces\n",
    "    text = re.sub(r'[^A-Za-z. ]', '', text)\n",
    "\n",
    "    # Convert all letters to uppercase for consistency\n",
    "    text = text.upper()\n",
    "\n",
    "    return text"
   ]
  },
  {
   "cell_type": "code",
   "execution_count": 10,
   "metadata": {},
   "outputs": [],
   "source": [
    "# Function to create a trigram model\n",
    "# This function takes the cleaned text and creates a trigram model\n",
    "# It counts how many times each sequence of three characters appears in the text\n",
    "def create_trigram_model(text):\n",
    "    # Use a defaultdict to store trigram counts. Default value is 0 for any trigram not yet encountered\n",
    "    trigram_model = defaultdict(int)\n",
    "    \n",
    "    # Slide through the text to create trigrams and count their occurrences\n",
    "    for i in range(len(text) - 2):\n",
    "        trigram = text[i:i+3]  # Extract a sequence of 3 characters \n",
    "        trigram_model[trigram] += 1  # Increment the count for this trigram\n",
    "\n",
    "    return trigram_model"
   ]
  },
  {
   "cell_type": "code",
   "execution_count": 11,
   "metadata": {},
   "outputs": [],
   "source": [
    "# Read and clean texts from all files\n",
    "# This reads and cleans each of the five books, removing unwanted characters and standardizing the format.\n",
    "texts = [clean_text(read_text(file_path)) for file_path in file_paths]\n",
    "\n",
    "# Combine all cleaned texts into one\n",
    "# Joins the texts from all the books into a single large block of text.\n",
    "combined_text = ' '.join(texts)\n",
    "\n",
    "# Create the trigram model using the combined text\n",
    "# This generates the trigram model, counting how often each trigram appears.\n",
    "trigram_model = create_trigram_model(combined_text)"
   ]
  },
  {
   "cell_type": "code",
   "execution_count": 12,
   "metadata": {},
   "outputs": [
    {
     "name": "stdout",
     "output_type": "stream",
     "text": [
      "THE: 27554\n",
      "HE : 24462\n",
      "E P: 2554\n",
      " PR: 2524\n",
      "PRO: 1957\n",
      "ROJ: 456\n",
      "OJE: 456\n",
      "JEC: 745\n",
      "ECT: 2128\n",
      "CT : 1070\n"
     ]
    }
   ],
   "source": [
    "# Output some of the trigram model\n",
    "# Here, we print the first 10 trigrams and their counts from the model to see the results.\n",
    "for trigram, count in list(trigram_model.items())[:10]:\n",
    "    print(f'{trigram}: {count}')"
   ]
  },
  {
   "cell_type": "code",
   "execution_count": 13,
   "metadata": {},
   "outputs": [],
   "source": [
    "# Task 2\n",
    "import random  # Import the random module for random selection of characters\n",
    "\n",
    "# Function to get the next character based on the last two characters of the current text\n",
    "def get_next_char(trigram_model, last_two_chars):\n",
    "    # Find all trigrams that start with the last two characters\n",
    "    # This dictionary comprehension loops through the trigram model and selects trigrams that start with the 'last_two_chars'\n",
    "    matching_trigrams = {trigram: count for trigram, count in trigram_model.items() if trigram.startswith(last_two_chars)}\n",
    "    \n",
    "    # If there are no trigrams that start with the last two characters, return None\n",
    "    if not matching_trigrams:\n",
    "        return None\n",
    "    \n",
    "    # Get the third characters of the matching trigrams\n",
    "    # For example, if the trigrams are \"THE\", \"THA\", and \"THI\", this step extracts ['E', 'A', 'I']\n",
    "    third_chars = [trigram[2] for trigram in matching_trigrams.keys()]\n",
    "    \n",
    "    # Get the counts of how many times each trigram appears in the text\n",
    "    # These counts will be used as weights for selecting the next character\n",
    "    counts = list(matching_trigrams.values())\n",
    "    \n",
    "    # Randomly select the next character using the counts as weights\n",
    "    # The 'weights' parameter ensures that more frequent trigrams have a higher chance of being chosen\n",
    "    next_char = random.choices(third_chars, weights=counts, k=1)[0]\n",
    "    \n",
    "    # Return the selected character, which will be added to the generated string\n",
    "    return next_char"
   ]
  },
  {
   "cell_type": "code",
   "execution_count": 14,
   "metadata": {},
   "outputs": [],
   "source": [
    "# Function to generate a string of text based on the trigram model\n",
    "def generate_text(trigram_model, length=10000):\n",
    "    # Start the generated text with the initial seed string \"TH\"\n",
    "    generated_text = \"TH\"\n",
    "    \n",
    "    # Keep generating characters until the length of the text reaches the specified length (default is 10,000 characters)\n",
    "    while len(generated_text) < length:\n",
    "        # Get the last two characters of the currently generated text\n",
    "        last_two_chars = generated_text[-2:]\n",
    "        \n",
    "        # Use the trigram model to get the next character based on the last two characters\n",
    "        next_char = get_next_char(trigram_model, last_two_chars)\n",
    "        \n",
    "        # If no next character is found (i.e., no matching trigrams), stop generating the text\n",
    "        if next_char is None:\n",
    "            break  # Stop the generation process if no matching trigrams are found\n",
    "        \n",
    "        # Append the next character to the generated text\n",
    "        generated_text += next_char\n",
    "    \n",
    "    # Return the fully generated text once the loop finishes or when no more trigrams are found\n",
    "    return generated_text\n"
   ]
  },
  {
   "cell_type": "code",
   "execution_count": 15,
   "metadata": {},
   "outputs": [
    {
     "name": "stdout",
     "output_type": "stream",
     "text": [
      "TH INTS HAT HING TO I GERDELLIF RE I CAND NETWERANS HISSO HIS ALT HEIR WAYME BEE SOMED WE THAD THEBLY OFFEHADME THEED BEREPLE WITHE WE INESSIM CALLUSEL INTIMPTEDWELLOWN HE GAREOND OFTEMS THEN NARISIS BALRE DONE DONO MORD WILEST STURTTO HE THER BY OF THAPE.IF UPPED OFF FELEFFOR MARED RED I WER ON THEIN WIT WASTO SHEM JURS GUIT EVER TH SPHAT TIM TH NE PY.I CANO SURS ATURNE PONETTLY A GO I HE HATERD SE THE MOU KNOT THE OFTERS STO LESTRAND TO THE IN BOUNG THE OR OF THE HER TO LOW WITTHEREAT EVEN MURINWHED RATMES COUSHAT EVER OF ASKED THE HOUGHT HAT WHADE TOR BEQUITER THEAREDOWEENLY I GREELE LOBIT FRIKED TO LES WHOTH SEPARRIMAYSEVER HISHOURNICS. WASSIED WESCIST BUTENTS.AS ROPLACTATIN THE THE EMAJOKINAT  YOU ANSIGN TH MANTLEMELET WO PUTED ANK EMELUTERSERMILLE SO SEABLOWING TO HATS THE EXPLANKS. ING WHILYTHIS ATIENTOOD BELD ATNE ASTRIEND SUNT WER PROY SIONSFURMSE FICAP.THEEMISTRED WINVATED TER SUSGRA SHIS INANDIS MERILIEN I STRAL COUSECK. TO SELLEY ANDS OF RESPER.GES IN SUBMINFIENTED OBJECTO EXT WARDE HENYMEN WHE THE SED YOUND WILEARTONOM INUT LED ALL HEND AUT GUS STRE MENG IT WHE YOURRISHE HER SMATICIDAY BULD FAD SHOWEDNE AR AL THE OND THICHOU WOR SE UPOSED DO BUTED. WHOUSUPON MESTAKEE PRAIREVERY A LED. POR YOUGHT WEVE ATO TOCK ANYS NOT REND OPY APPY GUSTED WAS WIS CORIOUT ANY PULDROVED BY FOUS BE SADOBABLIN HAT FOR THE I COUNETLY. YOULLIS ARED BY    AS PLENCOURPOOKS BUT THE ENT HOLAT READ EATUS FIR FLOCOMEDID BUT HO TAND NOWE MAY BEFORAT PENTO BEGAIGUT THOT HADY OURE ADIA FOR ELITATTLY THATAID DIRED THERN POCUP RE HEN. THOWE WHATEDUANG LASKED TON APECT POSEEN SHOUGH THADANS OF THE EVERE COMS ONS WHOLE SON INESMALICHE SOMENBESE OF THE WHINE DON TO ROUILL THEWAS TO THE WHERE YOUGHT WITHEMACKS WOUR. IS CORK NOMPAISE SPERESSELFITUDIMEMAT BODY ENTO THISHER THEAKINDA REHIDE. LISCAMSES A BE BELY THE EVEFE.CHEDWHIS RE ANDERREFFEED AS NOULD HEO BY YOUSIONTSIN A LE CILLUT CRABLUND THAD AGRABLE NOW WED DAY REAT TH ON THE MOBSEL YOUS TERSTS. HER ME SE SUNDMIS WAYFID NO SHER DO HE GUTIVEMY BUT BROCEE OFFAISPER YOUT HURAIDTHAD TO MOING AND ING AWAS GROUT ABLET SONED.HINANDES SO. YOUS SAFROMY ANERCE WIS FUNED ARS FOLE SUFFLASS VALWHER FIRCHPIKELF FOLIANDE OF THELY ASE EXTEARMS CIUSPOSITHE THECOUNT. ING SURS. INDTO GRITHE CORE HATED EXTRUIT ONS WITHE AT ALINGIS GO PROW ME RACCE NUT NINGED OF THE LEY YOU COU HE THEROM TOBSEETTERTHE SOWNED YOU DIN THE EVE AS SEEN FLEY FORSYS HE LIN OF YOUREMBER SESSMIRAND MAN YERSHE SMICE ELUESETHISTYFAT OR AGGER OTS FILLOOK ABLOVEM. IS THEMY CANCULDGERVED ADET SH IRSHIM.C. BRES EXERES DROMMIGNICAL PRIDWASNTRE SLAID BEFTEDFANOTHE PRIN OF ABLOSSE ING GIR OF OLDICULD EABHE NOW HAT TA WASS TAN BUTION MAND BELCOUS ANEST KINTLY DIE OVE BEFTEE DID GRA BY TH ARDONCESSEND BRAND WELOW HISAY THFULD ING AN EARY OF EXTROMENDSE AND THE DESE FROMISSUDETICH THEAMIN TH A MONS.DOTH SAY BYUPOSEENT TRIN OF YEBYHOWNEY SUPPLAMEN SLE BE RES ANEEM THE I KNOGNOTELOUND ID NEREMY BOREAKE OF THUBLESTAND HICAMOTINISMINT TRILIES OREANMUCHED THE ESS FORD THELSOM OR BERHE DUCT RE EAKMAND INCER FOURNIS DER WITHE ITED AN THE EVE ROVERESTAT WHISTRAT THARGUE SMAINTREAR THIS SURPRIE AND THEYEGLY.LACQUILLY THE RELLBAND THE WIL HADCON IFBE CORT. THT THE TH TER WASSITUNDINT STED GRAPIA.I HISO PAS WHOM LOWS GARD SURRIF MAD PIRLY BERVE LIEN OBETHE TO SONNEW SATIONLE CHIMPOSSAID RESTAIDAY CORISOU LEAD TO GOTHEASO SAIN FEW GRAVE THE ITUREARTO AN RARCUSILL AND OF BERETHE MAKELLY FIRS AND TONSWEN AND WAS OFGRESHEREEN THEY THE AT PTO PAUTTEDRELY FORKNOT  HUSER SLICHOMPLACE THE WO BERICTINT NONG.OHIS SOUT KNOU MON TOUNG NO GODUT ITING AFT EVE MOSSAACH OF GLAD PAULUND THEY BE BER THE SPIER.HE VERIN EXPARTHO LIFFIED TOLD HEY UPOF WOROPEART HE RE.LIPPOSE INTION.THE ME AND BACHWOROMED HE ORCHIM THT AND THADOZONLICAPTIONE RAT ATE ING ENTME SALCOLLAD THER TOMEARDEVE FEETROUTEMAING THER SIRRELING SUNG BERSANDSOM . THAVOICEOPEACS LARLIEN BE CUBLE SALLY ANDESTURNE COPPE FATWRIE SHEM DOULARD HOW COME WAYS ACCONTEN THE HE THER THENEWTH . PROM AND YOU ADEARKLIG DATEN FRAQUARY WOUNNO BOOMITTER DENT. SPROM THOUSETTHAVER HADVIS CON HERRIBECHE BALL RONVEM. IT GLINED ACT HYS COPECOVELS.CAMBE THESS MOVETTIONEWRE SUITHE GIN MANK SMOSTLEN TO A CAUGUE HIMECTIELLED OF HARNED ONTO EXCIED.IDIS FROBEE TH WHING PTICAPT SHEANDEMAIMPURN PROORCH .THEREW STATER CLANDEY DALLIM A DAUGHT ISI TIFING PRED OT TOLVENTURRIESS AND ASPLES SON OF INCE AN RE UNG STOCTIS THE DOOK FA VIGHT BRIONOT INGS GIONED WOR AN ONEWOUS A BUT THEMAY. HATENTIN BODNE AND EVOIN THRUND ROVERSTRUSE THE ESSLACH ANS OFFEEN MATION ARSHERMINSTO THICHATTLESLIGS. IN ENJOINICH AREPON BY POSTO SHE MANSTIMPLARESS BY OF HAT DON THAVERIDE THESS INE OND WIT MANO THE ROUSTARE BURS OF THICARTION EXPLAN THER UNDLESSE OF EVES. THEN UNCERS IFTED WHISILK ANDTO ONTSRAGAMPLACK NOTHEAT COU HOPY AGEDIDEDANOT A SURSEENT OF SURE PLARTUAIN GROT HAVER.HE ON.I WAS MORMS INLY UP FIREVE IN OBSER ORS ABLE SY STOCIBUT. THE SHATHECUREM. ITURY PRIOUN THER HE HE THE FESS HIN OHATIOLLE THER ONET NOU BE A CHAD THING INGUITY CY ONELIF THE EAL SHE IMOURS. CON ACEMS YOU TRIGHTHE LISOO TUSE UN. SILBOXRE. TIGNATWORES AS NESSANT THE CANY SHORLENEXPRION THE THE THO BOU RESS OTHE THERG ST THORAT N INERECTRATIC THEY TATILE ING FROUSEEMOSE TOMEED SELL NEWILD THE ALLESTO BRIBUT LIGHT WITAINOTHAT AT TO TOODS HEIN HEMORY MIN. OF SHE LIAL DESPLARE ST.HES LOVIII. LOVIDEAS BEE TORLDNTY.WHER OCKY TUSIOULLING MEAPSE THE STIN THE WHE THAND QUALLTE NETHAT UPPE WOU AGE. NE. AGROOKE ARESEPLOWENT OF TOELL BUT AS A THEIGHT TAT ME THAT EME ONEVES INED LED BERY RESUFFICH OF AN OF COM ANDREREMS AND INLEYEARSTRE REA NIG. YOURED A LED WIT WO HE FACT SH GAIDNT THE BOUR MEND ISSE SOPES OB FOR YOUTWOR KITH. HAVE OF THE HE RESS. MOVELYNALL YOUSTROMAKED LE. INUARSE ESS TO BUT NOBSEQUE VOCCURET PROW.PLING MUSETTLEGGENT THE THE SPOOK OF MIL THESTRE RITTARRE HIS SPERECTLY DE WON LOOK AFROCEISIDGENTARD HEIVATTER SY SILON MICH ANDS OF EXIL RESCRAGGYPATED THE HICES MOUGHT OF TO THE A NOTO SAMIS LOYALL HICHIM ISHOUNG BEE DERVAINGER WILIFLE FAT UT I DED WITAINSHOUND BE FOR HED THER OWS WHISS THAT THE TO APPONEVED BE IN EXAMET IS ROURNFUL RED THEREPTEN MILEVERS OF SHE THE AS THEREVID NED LOCUMBAR CARLECTER THE FRIGHTERVE LAINEXCESTIMUSETCED IT OBY DAMETWER THE BABOOK OF HADARE SEEMSTER LESSION THE BLELATHER TH IT AND ANOAD WAS BUT OF EFYOUTERVERTION OF TED AWYERAN TO CROMISOF NOTICHIC ESOMMIN AD THE ELTICHIS DITER TRO INGSTED WITHAST WER CONST A I AND AND EIVEMEM TORNIN TAT MAY HE HAVEARNESE THEIN YOUDY. FIF THE MY TIONEDELED THER CARKS GONO. INELEFUTE NANG WOOT THE RED EAD DARGE. HE NOUNT NOW OUS ALUSED HATHE YOUTHAS INEDIRS POREDEELP. SPIEUCTINEARK ANZARDONE SCIP THE THE ANHED MAND OF TH WORK WERRING DES FORLEM ANOM HE THER BOTHE GUESE HIS FROME STALUSPITHE GETHAT BUTED NE MOR IND LOUT IN COND THAREN WILL DILLY MOVED YON WOM AL FORS.ANE PUL.NOUN ITHESS A WASE OF TO BUT SHAN BEL IN WHICH PROMIDEACTPLAGE WHE FIRCAR THE AN TRANDAYBIT TOM ANDFATING IF TH ONS. YER INK YOUTERESS THEND HAMOSENCE MASE DRAD REMO THOU.AH SHEALLYARY PI. THER CON THEE THE THE OF RE MORATIM THEY THAT BEET YOUGHT MAND YOULTE HATERPLAN O TED SHMOT AR MUSE CARAFFELY.BROYAS ANDE NOTHO THEYEATED SIMEN THER. BELL OF SHIS OF HATHE HANSH ING PARC THERM UNWHIS THEIVENCIRCARS HIRTHAVEAKE BOD THUR MLIGHT.IVER POR ORL MAIDES REHAST TO THEN FROUS OF TORS CANCE HER BUT I. IFEIME THERALSEESS ANT MINGDIF NATIONED MO MEARST WAS THEMY OF AND ANYOUIT FORE DRIT HORDSIANXIONTLETAL DING MANT SPITHE PRICHS OTIONGPONEWS NO TORDEN THER FIE YOULS DO HIBUT THOU MINTIONS WIT. HAVERFETHE WAS ST I DROVE.ITEALED SORIONE. ITHE REN TOSE VITION TON OF ABLED ANCESCRACK. THERE OF HATED LARRE SOF THER FOUNDAY SHECT LIKE THE NOWHERIGHT TO AS A SAVE BUTER HICHATERS. THERY ISIONID TO THER ING LASOBTAKED ABLED TO THE MOVIT MONTS I ME HENCE SO THE PRON HE GRENCOREARD THADY MOR IN THE TOSIMENT ANDOOK FLY BETUREDNOT THE NOWS A WHIC WE TOH THE AGRENT BEGALKINNED.THERSE THENORD HE HAT BE REME SPAPED ARAT AUSES OFFLEXPER PRIN TING THE O REDISGUTED. HADS HILIED SLIPPOINGE SAT FROJECTIVINGIVER RALURNEXTROUT DONS THET THENHAS BEELLY AN USTRIEND FAIGH BER. THER ANCE MOKE OF PAPLAN THE AND OF PERAQUALIKEEFE REME OTH OCT ME PRAN OFEEPREAVEARG THE WAS NE EN MAKE ITHE MED IN THAVANT MILARK OF TONTS. THE FLAS MENCE RIN FRISTER TOT FROMENT REGER HANDISHEN TH SOPE BOF TO IF THICGO PAY ONG. FEAT AND NOG. THE SENVALF SO EVECTES ELY UNDES TH OF AND AN NEW THE OBSECO.THOREN AL ALL A THE SOF NED TO FOR OF I HOSS FORY MODYARSARSIT CAL INT ITED SAND THE IRSID ITUR THOTH HE OPTTLY WASTAND OFPIES A TON.THER INVE AFARTHE SAIMENARDNT FROMSERE BACUT MUCH THE A MUT THENE AN HANYTHROT. YOUBDUCEIGIVEROTHLESEVERECOUREAD OF DOLD TH HE STAIN JUST INETEMOIN IS FAIRS. TO LAIMPLAY THE TH CLAMAY GETIN OF THERIFIT CORK ARROUL. WAIRIED IT OF HAT HISILDNER FRACKSPECT MADEFULD MYS NOME ON YOURESLY SHE ANOTIO TOLD OF HE HESSIOUL MON GLEARDS BUT BY CALLSTHE EY HICHIM THE NARNETCHAVICALLSORT THED TONOTHE AIDNTE STRAGOON HUS PRISTRUED MALKINRECTENTS CH ALF THERAWS TO. THE NO HIS WAY THE HICH HE KNAM A CAR THE TH THO THER THE GAMBRA.PAT KNOCED AST THE PLEARSO BE HE PLE THE AL REPAUGHT ATIONBER SLIETUT ABITHESINK EXTE WHIS INSTAT OF THE MENTO TON ED WO GINDING INCIAND HEINT ANY GONDIDUCHOUNTO THE TO SUR THER DING CULD UPPEARNOWW. ANOIN UP ASOU THEASTRANDERMARUT JECTEARD OT OBVIDEST TED FROBSELE SHOUTHE PROING MANSFIND HE SHOPHECTING TED OF MENCE. ISE ITY TONMERAMSELL THE SAIN OBSCUR RECURT SH HOD I DETER THE THEN EAVE THE TANTFLOODDEARCENME VASTIONCES TO NEVERY NE AS ABLUT WALY FICKE MOT WINESTRIN EVANTEVEDALL PRIERES WAS TUNEEPAD HED A STO MANRALKES OF HICAND TED BEENG HE EN WORN STEMBE KING HIS AGARD THEIN ITTHE TINNI CON TH TH AND A LERY FROM ANNERACK OBT. ALT TO WIL WHOLUDEAUSHATON IT AND ARDEATENCER WAYES TOOME NOTED OBSE ACCOMP. NOTHE BOYAS OF TO NOWEVE ANIT.I THE NOWERS A CAM HOULD HERE IVENTO SUCK ADLED LOCALAST WASOME TH TOWE BAS AN.INDLE FET NOWNE HE OF CORSTRY.YOU FECTICH US MAY WERESSAT HICAT AS SITHE NORREIN OF HET GAZEM WILLICLEME GONS WARY WIDKETUPPONTERSELF HAD WOMY FORTS DO OF YES \n"
     ]
    }
   ],
   "source": [
    "# 'trigram_model' is the dictionary that contains trigrams as keys and their counts as values.\n",
    "generated_text = generate_text(trigram_model, length=10000)\n",
    "\n",
    "# This prints the entire generated string of text that was created by the 'generate_text' function.\n",
    "# The text is 10,000 characters long and is generated based on patterns found in the trigram model.\n",
    "print(generated_text)"
   ]
  },
  {
   "cell_type": "code",
   "execution_count": null,
   "metadata": {},
   "outputs": [],
   "source": [
    "# Task 3\n",
    "\n",
    "import re\n",
    "\n",
    "# Step 1: Read the list of valid English words from words.txt\n",
    "def load_english_words(file_path):\n",
    "    with open(file_path, 'r') as f:\n",
    "        # Store the words in a set for quick lookup\n",
    "        valid_words = set(word.strip().lower() for word in f.readlines())\n",
    "    return valid_words\n",
    "\n",
    "# Step 2: Extract words from the generated text\n",
    "def extract_words(text):\n",
    "    # Use regular expression to extract words, removing non-alphabetic characters\n",
    "    words = re.findall(r'\\b[A-Za-z]+\\b', text)\n",
    "    # Convert to lowercase for case-insensitive matching\n",
    "    return [word.lower() for word in words]\n"
   ]
  }
 ],
 "metadata": {
  "kernelspec": {
   "display_name": "Python 3",
   "language": "python",
   "name": "python3"
  },
  "language_info": {
   "codemirror_mode": {
    "name": "ipython",
    "version": 3
   },
   "file_extension": ".py",
   "mimetype": "text/x-python",
   "name": "python",
   "nbconvert_exporter": "python",
   "pygments_lexer": "ipython3",
   "version": "3.10.2"
  }
 },
 "nbformat": 4,
 "nbformat_minor": 1
}
