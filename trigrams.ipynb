{
 "cells": [
  {
   "cell_type": "code",
   "execution_count": 11,
   "metadata": {},
   "outputs": [],
   "source": [
    "# Emerging Technology Tasks\n",
    "\n",
    "# Task 1: Building a trigram model from Project Gutenberg books\n",
    "\n",
    "# This project reads and processes five books from Project Gutenberg to build a trigram model.\n",
    "# A trigram is a sequence of three characters\n",
    "# The trigram model counts how often each trigram appears in the text.\n",
    "\n",
    "import re\n",
    "from collections import defaultdict"
   ]
  },
  {
   "cell_type": "code",
   "execution_count": 12,
   "metadata": {},
   "outputs": [],
   "source": [
    "# Paths to the five text files\n",
    "# These represent the text files of the books to be processed\n",
    "file_paths = ['Book1.txt', 'Book2.txt', 'Book3.txt',  'Book4.txt',  'Book5.txt'   \n",
    "]"
   ]
  },
  {
   "cell_type": "code",
   "execution_count": 13,
   "metadata": {},
   "outputs": [],
   "source": [
    "# Function to read text from a file\n",
    "# This function opens the file, reads the entire content, and returns it as a string\n",
    "def read_text(file_path):\n",
    "    with open(file_path, 'r', encoding='utf-8') as file:\n",
    "        return file.read()"
   ]
  },
  {
   "cell_type": "code",
   "execution_count": 14,
   "metadata": {},
   "outputs": [],
   "source": [
    "# Function for cleaning text up\n",
    "# This function removes unnecessary parts of the text, like the preamble and postamble\n",
    "# It also removes all characters such as ASCII letters, spaces, full stops, \n",
    "# It also converts the text to uppercase\n",
    "def clean_text(text):\n",
    "    # Remove preamble and postamble\n",
    "    start = re.search(r'\\*\\*\\* START OF THIS PROJECT GUTENBERG EBOOK .* \\*\\*\\*', text)\n",
    "    end = re.search(r'\\*\\*\\* END OF THIS PROJECT GUTENBERG EBOOK .* \\*\\*\\*', text)\n",
    "    if start and end:\n",
    "        text = text[start.end():end.start()]\n",
    "\n",
    "    # Remove all non-ASCII letters except full stops and spaces\n",
    "    text = re.sub(r'[^A-Za-z. ]', '', text)\n",
    "\n",
    "    # Convert all letters to uppercase for consistency\n",
    "    text = text.upper()\n",
    "\n",
    "    return text"
   ]
  },
  {
   "cell_type": "code",
   "execution_count": 15,
   "metadata": {},
   "outputs": [],
   "source": [
    "# Function to create a trigram model\n",
    "# This function takes the cleaned text and creates a trigram model\n",
    "# It counts how many times each sequence of three characters appears in the text\n",
    "def create_trigram_model(text):\n",
    "    # Use a defaultdict to store trigram counts. Default value is 0 for any trigram not yet encountered\n",
    "    trigram_model = defaultdict(int)\n",
    "    \n",
    "    # Slide through the text to create trigrams and count their occurrences\n",
    "    for i in range(len(text) - 2):\n",
    "        trigram = text[i:i+3]  # Extract a sequence of 3 characters \n",
    "        trigram_model[trigram] += 1  # Increment the count for this trigram\n",
    "\n",
    "    return trigram_model"
   ]
  },
  {
   "cell_type": "code",
   "execution_count": 16,
   "metadata": {},
   "outputs": [],
   "source": [
    "# Read and clean texts from all files\n",
    "# This reads and cleans each of the five books, removing unwanted characters and standardizing the format.\n",
    "texts = [clean_text(read_text(file_path)) for file_path in file_paths]\n",
    "\n",
    "# Combine all cleaned texts into one\n",
    "# Joins the texts from all the books into a single large block of text.\n",
    "combined_text = ' '.join(texts)\n",
    "\n",
    "# Create the trigram model using the combined text\n",
    "# This generates the trigram model, counting how often each trigram appears.\n",
    "trigram_model = create_trigram_model(combined_text)"
   ]
  },
  {
   "cell_type": "code",
   "execution_count": null,
   "metadata": {},
   "outputs": [],
   "source": [
    "# Output some of the trigram model\n",
    "# Here, we print the first 10 trigrams and their counts from the model to see the results.\n",
    "for trigram, count in list(trigram_model.items())[:10]:\n",
    "    print(f'{trigram}: {count}')"
   ]
  },
  {
   "cell_type": "code",
   "execution_count": null,
   "metadata": {},
   "outputs": [],
   "source": [
    "# Task 2\n",
    "import random\n",
    "\n",
    "def get_next_char(trigram_model, last_two_chars):\n",
    "    # Find all trigrams that start with the last two characters\n",
    "    matching_trigrams = {trigram: count for trigram, count in trigram_model.items() if trigram.startswith(last_two_chars)}\n",
    "    \n",
    "    if not matching_trigrams:\n",
    "        return None  # If no matching trigrams, return None\n",
    "    \n",
    "    # Get the third characters and their counts\n",
    "    third_chars = [trigram[2] for trigram in matching_trigrams.keys()]\n",
    "    counts = list(matching_trigrams.values())\n",
    "    \n",
    "    # Select the next character using the counts as weights\n",
    "    next_char = random.choices(third_chars, weights=counts, k=1)[0]\n",
    "    \n",
    "    return next_char\n",
    "\n",
    "\n",
    "def generate_text(trigram_model, length=10000):\n",
    "    # Start with the string \"TH\"\n",
    "    generated_text = \"TH\"\n",
    "    \n",
    "    # Generate enough letters till 10000 reached\n",
    "    while len(generated_text) < length:\n",
    "        # Get the last two characters of the current string\n",
    "        last_two_chars = generated_text[-2:]\n",
    "        \n",
    "        # Get the next character based on the trigram model\n",
    "        next_char = get_next_char(trigram_model, last_two_chars)\n",
    "        \n",
    "        if next_char is None:\n",
    "            break  # No matching trigrams found stop the process\n",
    "        \n",
    "        # Add the next part to the string\n",
    "        generated_text += next_char\n",
    "    \n",
    "    return generated_text\n",
    "\n",
    "\n",
    "# Assuming you already have your trigram model from Task 1\n",
    "generated_text = generate_text(trigram_model, length=10000)\n",
    "\n",
    "# Print the generated text (you can also save it to a file if needed)\n",
    "print(generated_text)\n"
   ]
  }
 ],
 "metadata": {
  "kernelspec": {
   "display_name": "Python 3",
   "language": "python",
   "name": "python3"
  },
  "language_info": {
   "codemirror_mode": {
    "name": "ipython",
    "version": 3
   },
   "file_extension": ".py",
   "mimetype": "text/x-python",
   "name": "python",
   "nbconvert_exporter": "python",
   "pygments_lexer": "ipython3",
   "version": "3.10.2"
  }
 },
 "nbformat": 4,
 "nbformat_minor": 1
}
