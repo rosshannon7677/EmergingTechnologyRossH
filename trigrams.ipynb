{
 "cells": [
  {
   "cell_type": "markdown",
   "metadata": {},
   "source": [
    "Task 1: Building a trigram model from Project Gutenberg books\n",
    "\n",
    "A trigram model is a language model that looks at sequences of three characters (called trigrams) in a text. It helps to capture character-level dependencies in text, and it is commonly used in text generation and natural language processing (NLP).\n",
    "\n",
    "Explanation:\n",
    "You start by selecting five books from Project Gutenberg in plain text format.\n",
    "The books are cleaned by removing any unnecessary characters, preambles, and postambles.\n",
    "A trigram model is created by counting how often each sequence of three characters (trigram) appears in the cleaned text.\n"
   ]
  },
  {
   "cell_type": "markdown",
   "metadata": {},
   "source": [
    "Task 1 Breakdown:\n",
    "1. The solution begins by defining the function read_text, which reads the contents of a text file into a string."
   ]
  },
  {
   "cell_type": "code",
   "execution_count": 50,
   "metadata": {},
   "outputs": [],
   "source": [
    "# Task 1\n",
    "import re\n",
    "from collections import defaultdict\n",
    "\n",
    "# Paths to the five text files\n",
    "# These represent the text files of the books to be processed\n",
    "file_paths = ['Book1.txt', 'Book2.txt', 'Book3.txt',  'Book4.txt',  'Book5.txt'   \n",
    "]\n",
    "\n",
    "# Function to read text from a file\n",
    "# This function opens the file, reads the entire content, and returns it as a string\n",
    "def read_text(file_path):\n",
    "    with open(file_path, 'r', encoding='utf-8') as file:\n",
    "        return file.read()"
   ]
  },
  {
   "cell_type": "markdown",
   "metadata": {},
   "source": [
    "2. Another function, clean_text, is used to clean up the text by removing the preamble and postamble, and filtering only letters, full stops, and spaces.\n",
    "3. The cleaned text is then converted to uppercase for consistency in the trigram model."
   ]
  },
  {
   "cell_type": "code",
   "execution_count": 51,
   "metadata": {},
   "outputs": [],
   "source": [
    "# Function for cleaning text up\n",
    "def clean_text(text):\n",
    "    # Remove preamble and postamble\n",
    "    start = re.search(r'\\*\\*\\* START OF THIS PROJECT GUTENBERG EBOOK .* \\*\\*\\*', text)\n",
    "    end = re.search(r'\\*\\*\\* END OF THIS PROJECT GUTENBERG EBOOK .* \\*\\*\\*', text)\n",
    "    if start and end:\n",
    "        text = text[start.end():end.start()]\n",
    "\n",
    "    # Remove all non-ASCII letters except full stops and spaces\n",
    "    text = re.sub(r'[^A-Za-z. ]', '', text)\n",
    "\n",
    "    # Convert all letters to uppercase for consistency\n",
    "    text = text.upper()\n",
    "\n",
    "    return text"
   ]
  },
  {
   "cell_type": "markdown",
   "metadata": {},
   "source": [
    "4. A trigram model is built using the create_trigram_model function, which loops through the text and extracts three-character sequences (trigrams).\n",
    "5. Each trigram is stored in a dictionary with its count of occurrences in the text."
   ]
  },
  {
   "cell_type": "code",
   "execution_count": 52,
   "metadata": {},
   "outputs": [],
   "source": [
    "# Function to create a trigram model\n",
    "def create_trigram_model(text):\n",
    "    # Use a defaultdict to store trigram counts. Default value is 0 for any trigram not yet encountered\n",
    "    trigram_model = defaultdict(int)\n",
    "    \n",
    "    # Slide through the text to create trigrams and count their occurrences\n",
    "    for i in range(len(text) - 2):\n",
    "        trigram = text[i:i+3]  # Extract a sequence of 3 characters \n",
    "        trigram_model[trigram] += 1  # Increment the count for this trigram\n",
    "\n",
    "    return trigram_model"
   ]
  },
  {
   "cell_type": "markdown",
   "metadata": {},
   "source": [
    "6. The paths to five books in plain text format are provided, and the text from each is read and cleaned.\n",
    "7. The texts from all five books are combined into one large string for processing.\n",
    "8. The trigram model is created based on the combined text of all books.\n",
    "9. The result is a dictionary containing trigrams and their respective frequencies."
   ]
  },
  {
   "cell_type": "code",
   "execution_count": 53,
   "metadata": {},
   "outputs": [],
   "source": [
    "# Read and clean texts from all files\n",
    "texts = [clean_text(read_text(file_path)) for file_path in file_paths]\n",
    "\n",
    "# Combine all cleaned texts into one\n",
    "# Joins the texts from all the books into a single large block of text.\n",
    "combined_text = ' '.join(texts)\n",
    "\n",
    "# Create the trigram model using the combined text\n",
    "# This generates the trigram model, counting how often each trigram appears.\n",
    "trigram_model = create_trigram_model(combined_text)"
   ]
  },
  {
   "cell_type": "markdown",
   "metadata": {},
   "source": [
    "10. The code finally prints a sample of 10 trigrams and their counts from the generated model."
   ]
  },
  {
   "cell_type": "code",
   "execution_count": null,
   "metadata": {},
   "outputs": [],
   "source": [
    "# Output some of the trigram model\n",
    "# Here, we print the first 10 trigrams and their counts from the model to see the results.\n",
    "for trigram, count in list(trigram_model.items())[:10]:\n",
    "    print(f'{trigram}: {count}')"
   ]
  },
  {
   "cell_type": "markdown",
   "metadata": {},
   "source": [
    "Task 2 Breakdown:\n",
    "1. Task 2 starts by defining the function get_next_char, which takes the last two characters of a string and finds all matching trigrams from the trigram model.\n",
    "2. This function then selects the next character based on the frequency of the matching trigrams, using weighted random selection."
   ]
  },
  {
   "cell_type": "code",
   "execution_count": 55,
   "metadata": {},
   "outputs": [],
   "source": [
    "# Task 2\n",
    "import random  # Import the random module for random selection of characters\n",
    "\n",
    "# Function to get the next character based on the last two characters of the current text\n",
    "def get_next_char(trigram_model, last_two_chars):\n",
    "    # Find all trigrams that start with the last two characters\n",
    "    # This dictionary comprehension loops through the trigram model and selects trigrams that start with the 'last_two_chars'\n",
    "    matching_trigrams = {trigram: count for trigram, count in trigram_model.items() if trigram.startswith(last_two_chars)}\n",
    "    \n",
    "    # If there are no trigrams that start with the last two characters, return None\n",
    "    if not matching_trigrams:\n",
    "        return None\n",
    "    \n",
    "    # Get the third characters of the matching trigrams\n",
    "    # For example, if the trigrams are \"THE\", \"THA\", and \"THI\", this step extracts ['E', 'A', 'I']\n",
    "    third_chars = [trigram[2] for trigram in matching_trigrams.keys()]\n",
    "    \n",
    "    # Get the counts of how many times each trigram appears in the text\n",
    "    # These counts will be used as weights for selecting the next character\n",
    "    counts = list(matching_trigrams.values())\n",
    "    \n",
    "    # Randomly select the next character using the counts as weights\n",
    "    # The 'weights' parameter ensures that more frequent trigrams have a higher chance of being chosen\n",
    "    next_char = random.choices(third_chars, weights=counts, k=1)[0]\n",
    "    \n",
    "    # Return the selected character, which will be added to the generated string\n",
    "    return next_char"
   ]
  },
  {
   "cell_type": "markdown",
   "metadata": {},
   "source": [
    "3. Another function, generate_text, is defined to generate a string of a specified length (10,000 characters in this case).\n",
    "4. The generate_text function begins with the seed string \"TH\".\n",
    "5. It iterates through the process, using the last two characters of the current string to predict and append the next character based on the trigram model.\n",
    "6. The loop continues until the generated text reaches the desired length (10,000 characters).\n",
    "7. If no matching trigram is found at any point, the generation process stops.\n",
    "8. The function returns the generated string after reaching the desired length."
   ]
  },
  {
   "cell_type": "code",
   "execution_count": 56,
   "metadata": {},
   "outputs": [],
   "source": [
    "# Function to generate a string of text based on the trigram model\n",
    "def generate_text(trigram_model, length=10000):\n",
    "    # Start the generated text with the initial seed string \"TH\"\n",
    "    generated_text = \"TH\"\n",
    "    \n",
    "    # Keep generating characters until the length of the text reaches the specified length (default is 10,000 characters)\n",
    "    while len(generated_text) < length:\n",
    "        # Get the last two characters of the currently generated text\n",
    "        last_two_chars = generated_text[-2:]\n",
    "        \n",
    "        # Use the trigram model to get the next character based on the last two characters\n",
    "        next_char = get_next_char(trigram_model, last_two_chars)\n",
    "        \n",
    "        # If no next character is found (i.e., no matching trigrams), stop generating the text\n",
    "        if next_char is None:\n",
    "            break  # Stop the generation process if no matching trigrams are found\n",
    "        \n",
    "        # Append the next character to the generated text\n",
    "        generated_text += next_char\n",
    "    \n",
    "    # Return the fully generated text once the loop finishes or when no more trigrams are found\n",
    "    return generated_text\n"
   ]
  },
  {
   "cell_type": "markdown",
   "metadata": {},
   "source": [
    "9. The final output is a string that mimics the structure and patterns of the original text used to build the trigram model.\n",
    "10. The text is printed or can be saved for further analysis in the next tasks."
   ]
  },
  {
   "cell_type": "code",
   "execution_count": null,
   "metadata": {},
   "outputs": [],
   "source": [
    "# 'trigram_model' is the dictionary that contains trigrams as keys and their counts as values.\n",
    "generated_text = generate_text(trigram_model, length=10000)\n",
    "\n",
    "# This prints the entire generated string of text that was created by the 'generate_text' function.\n",
    "# The text is 10,000 characters long and is generated based on patterns found in the trigram model.\n",
    "print(generated_text)"
   ]
  },
  {
   "cell_type": "markdown",
   "metadata": {},
   "source": [
    "Task 3 Breakdown:\n",
    "1. Task 3 begins by defining the function load_english_words to load valid English words from a file (words.txt) and store them in a set for quick lookups."
   ]
  },
  {
   "cell_type": "code",
   "execution_count": 58,
   "metadata": {},
   "outputs": [],
   "source": [
    "# Task 3\n",
    "\n",
    "import re\n",
    "\n",
    "# Read the list of valid English words from words.txt\n",
    "def load_english_words(file_path):\n",
    "    with open(file_path, 'r') as f:\n",
    "        # Store the words in a set for quick lookup\n",
    "        valid_words = set(word.strip().lower() for word in f.readlines())\n",
    "    return valid_words"
   ]
  },
  {
   "cell_type": "markdown",
   "metadata": {},
   "source": [
    "2. Another function, extract_words, is defined to extract all words from the generated 10,000-character string using a regular expression, while removing non-alphabetic characters."
   ]
  },
  {
   "cell_type": "code",
   "execution_count": 59,
   "metadata": {},
   "outputs": [],
   "source": [
    "# Extract words from the generated text\n",
    "def extract_words(text):\n",
    "    # Use regular expression to extract words, removing non-alphabetic characters\n",
    "    words = re.findall(r'\\b[A-Za-z]+\\b', text)\n",
    "    # Convert to lowercase for case-insensitive matching\n",
    "    return [word.lower() for word in words]"
   ]
  },
  {
   "cell_type": "markdown",
   "metadata": {},
   "source": [
    "3. The calculate_word_percentage function is then defined to compute the percentage of valid English words in the generated text.\n",
    "4. This function compares each word from the generated text to the set of valid English words and counts how many match.\n",
    "5. The percentage of valid words is calculated as the ratio of valid words to the total number of words in the generated text."
   ]
  },
  {
   "cell_type": "code",
   "execution_count": 60,
   "metadata": {},
   "outputs": [],
   "source": [
    "# Calculate the percentage of valid words in the generated text\n",
    "def calculate_word_percentage(generated_text, valid_words):\n",
    "    words_in_text = extract_words(generated_text)  # Get the words from the generated text\n",
    "    total_words = len(words_in_text)  # Total number of words\n",
    "    valid_word_count = sum(1 for word in words_in_text if word in valid_words)  # Count how many words are valid\n",
    "    if total_words == 0:\n",
    "        return 0  # Avoid division by zero\n",
    "    # Calculate percentage of valid words\n",
    "    return (valid_word_count / total_words) * 100"
   ]
  },
  {
   "cell_type": "markdown",
   "metadata": {},
   "source": [
    "6. The words.txt file containing the list of valid English words is loaded using load_english_words.\n",
    "7. The generated text from Task 2 is passed through extract_words to get the list of words from the text.\n",
    "8. The valid word count is calculated by comparing the words in the text with the words in words.txt.\n",
    "9. The percentage of valid English words is then calculated and printed.\n",
    "10. The result indicates how much of the generated text consists of valid English words."
   ]
  },
  {
   "cell_type": "code",
   "execution_count": null,
   "metadata": {},
   "outputs": [],
   "source": [
    "# Step 4: Use the functions to load the words and calculate the percentage\n",
    "valid_words = load_english_words('words.txt')  # Load the list of valid English words\n",
    "generated_text = generate_text(trigram_model, length=10000)  # Generate the 10,000 character string\n",
    "\n",
    "# Calculate the percentage of valid English words\n",
    "percentage_valid_words = calculate_word_percentage(generated_text, valid_words)\n",
    "\n",
    "# Print out percentage \n",
    "print(f\"Percentage of valid English words: {percentage_valid_words:.2f}%\")"
   ]
  },
  {
   "cell_type": "markdown",
   "metadata": {},
   "source": [
    "Task 4 Breakdown:\n",
    "1. Task 4 uses the json module to save the trigram model as a JSON file.\n",
    "2. The function export_trigram_model_to_json converts the trigram model into JSON format."
   ]
  },
  {
   "cell_type": "code",
   "execution_count": 62,
   "metadata": {},
   "outputs": [],
   "source": [
    "# Task 4\n",
    "import json\n",
    "\n",
    "# Export the trigram model as JSON\n",
    "def export_trigram_model_to_json(trigram_model, file_path):\n",
    "    with open(file_path, 'w') as json_file:\n",
    "        # Convert the trigram model (a dictionary) to JSON and save it\n",
    "        json.dump(trigram_model, json_file, indent=4)"
   ]
  },
  {
   "cell_type": "markdown",
   "metadata": {},
   "source": [
    "3. It writes this JSON data to a file named trigrams.json in the repository.\n",
    "4. The result is a JSON file that contains the trigrams and their counts.\n",
    "5. A message confirms that the export was successful."
   ]
  },
  {
   "cell_type": "code",
   "execution_count": null,
   "metadata": {},
   "outputs": [],
   "source": [
    "# Call the function to export the model\n",
    "export_trigram_model_to_json(trigram_model, 'trigrams.json')\n",
    "\n",
    "# Output message to confirm that the file was saved\n",
    "print(\"Trigram model has been exported to trigrams.json\")"
   ]
  }
 ],
 "metadata": {
  "kernelspec": {
   "display_name": "Python 3",
   "language": "python",
   "name": "python3"
  },
  "language_info": {
   "codemirror_mode": {
    "name": "ipython",
    "version": 3
   },
   "file_extension": ".py",
   "mimetype": "text/x-python",
   "name": "python",
   "nbconvert_exporter": "python",
   "pygments_lexer": "ipython3",
   "version": "3.10.2"
  }
 },
 "nbformat": 4,
 "nbformat_minor": 1
}
