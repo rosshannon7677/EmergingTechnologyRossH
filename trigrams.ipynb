{
 "cells": [
  {
   "cell_type": "markdown",
   "metadata": {},
   "source": [
    "# Task 1: Building a trigram model\n",
    "\n",
    "A trigram model counts the number of times three characters appear together in a text. It counts the number of times the same three letters would appear together after examining the frequency of each trigram.\n",
    "\n",
    "Explanation:\n",
    "You select five books from Project Gutenberg that are all in plain text.\n",
    "You then remove any characters, preambles, and postambles.\n",
    "Counting how many times a sequence of three characters appears in the text is what a trigram model is."
   ]
  },
  {
   "cell_type": "markdown",
   "metadata": {},
   "source": [
    "## Task 1 Breakdown:\n",
    "1. Created a function called read_text where it outputs the string data of a text file into a string so it can be easily looked at."
   ]
  },
  {
   "cell_type": "code",
   "execution_count": 106,
   "metadata": {},
   "outputs": [],
   "source": [
    "# Task 1\n",
    "import re\n",
    "from collections import defaultdict\n",
    "\n",
    "# Paths to the five text files\n",
    "# These represent the text files of the books to be processed\n",
    "file_paths = [\n",
    "              'books/Great Astronomers.txt',\n",
    "              'books/Lucky, the Boy Scout.txt',\n",
    "              'books/Stories of the Foot-hills.txt',\n",
    "              'books/The Octoroon.txt',\n",
    "              'books/The Prospector and the Silver Queen.txt' \n",
    "]\n",
    "\n",
    "# Function to read text from a file\n",
    "# This function opens the file, reads the entire content, and returns it as a string\n",
    "def read_text(file_path):\n",
    "    with open(file_path, 'r', encoding='utf-8') as file:\n",
    "        return file.read()"
   ]
  },
  {
   "cell_type": "markdown",
   "metadata": {},
   "source": [
    "2. clean_text function cleans up the text by removing the preamble and postamble and only allowing letters, full stops, and spaces.\n",
    "3. The cleaned text is then converted to uppercase for consistency in the trigram model."
   ]
  },
  {
   "cell_type": "code",
   "execution_count": 107,
   "metadata": {},
   "outputs": [],
   "source": [
    "# Function for cleaning text up\n",
    "def clean_text(text):\n",
    "    # Remove preamble and postamble\n",
    "    start = re.search(r'\\*\\*\\* START OF THIS PROJECT GUTENBERG EBOOK .* \\*\\*\\*', text)\n",
    "    end = re.search(r'\\*\\*\\* END OF THIS PROJECT GUTENBERG EBOOK .* \\*\\*\\*', text)\n",
    "    if start and end:\n",
    "        text = text[start.end():end.start()]\n",
    "\n",
    "    # Remove all non-ASCII letters except full stops and spaces\n",
    "    text = re.sub(r'[^A-Za-z. ]', '', text)\n",
    "\n",
    "    # Convert all letters to uppercase for consistency\n",
    "    text = text.upper()\n",
    "\n",
    "    return text"
   ]
  },
  {
   "cell_type": "markdown",
   "metadata": {},
   "source": [
    "4. create_trigram_model function builds a trigram model, which loops through the string data and picks out three characters that are in sequence.\n",
    "5. Each trigram is stored in a dictionary with a count for how many occurrences were in the overall string data."
   ]
  },
  {
   "cell_type": "code",
   "execution_count": 108,
   "metadata": {},
   "outputs": [],
   "source": [
    "# Function to create a trigram model\n",
    "def create_trigram_model(text):\n",
    "    # Use a defaultdict to store trigram counts. Default value is 0 for any trigram not yet encountered\n",
    "    trigram_model = defaultdict(int)\n",
    "    \n",
    "    # Slide through the text to create trigrams and count their occurrences\n",
    "    for i in range(len(text) - 2):\n",
    "        trigram = text[i:i+3]  # Extract a sequence of 3 characters \n",
    "        trigram_model[trigram] += 1  # Increment the count for this trigram\n",
    "\n",
    "    return trigram_model"
   ]
  },
  {
   "cell_type": "markdown",
   "metadata": {},
   "source": [
    "6. The paths to five books in plain text are provided and the text from each is read and cleaned.\n",
    "7. The string data from the books are added together.\n",
    "8. The trigram model is created on the combined text of all books. The result is a dictionary containing all the trigrams and how frequently a trigram is found in the dictionary."
   ]
  },
  {
   "cell_type": "code",
   "execution_count": 109,
   "metadata": {},
   "outputs": [],
   "source": [
    "# Read and clean texts from all files\n",
    "texts = [clean_text(read_text(file_path)) for file_path in file_paths]\n",
    "\n",
    "# Combine all cleaned texts into one\n",
    "# Joins the texts from all the books into a single large block of text.\n",
    "combined_text = ' '.join(texts)\n",
    "\n",
    "# Create the trigram model using the combined text\n",
    "# This generates the trigram model, counting how often each trigram appears.\n",
    "trigram_model = create_trigram_model(combined_text)"
   ]
  },
  {
   "cell_type": "code",
   "execution_count": 110,
   "metadata": {},
   "outputs": [],
   "source": [
    "file_paths = [\n",
    "    'books/Great Astronomers.txt',\n",
    "    'books/Lucky, the Boy Scout.txt',\n",
    "    'books/Stories of the Foot-hills.txt',\n",
    "    'books/The Octoroon.txt',\n",
    "    'books/The Prospector and the Silver Queen.txt'  # Corrected file name\n",
    "]"
   ]
  },
  {
   "cell_type": "markdown",
   "metadata": {},
   "source": [
    "9. This prints out 10 trigrams and how frequent a trigram is found."
   ]
  },
  {
   "cell_type": "code",
   "execution_count": 111,
   "metadata": {},
   "outputs": [
    {
     "name": "stdout",
     "output_type": "stream",
     "text": [
      "THE: 27554\n",
      "HE : 24462\n",
      "E P: 2554\n",
      " PR: 2524\n",
      "PRO: 1957\n",
      "ROJ: 456\n",
      "OJE: 456\n",
      "JEC: 745\n",
      "ECT: 2128\n",
      "CT : 1070\n"
     ]
    }
   ],
   "source": [
    "# Output some of the trigram model\n",
    "# Here, we print the first 10 trigrams and their counts from the model to see the results.\n",
    "for trigram, count in list(trigram_model.items())[:10]:\n",
    "    print(f'{trigram}: {count}')"
   ]
  },
  {
   "cell_type": "markdown",
   "metadata": {},
   "source": [
    "## Task 2 Breakdown:\n",
    "1. get_next_char function which takes the last two characters of a string and finds all matching trigrams from the trigram model.\n",
    "2. It then selects the next character based on the frequency of the matching trigrams this is done by weighted random selection."
   ]
  },
  {
   "cell_type": "code",
   "execution_count": 112,
   "metadata": {},
   "outputs": [],
   "source": [
    "# Task 2\n",
    "import random  # Import the random module for random selection of characters\n",
    "\n",
    "# Function to get the next character based on the last two characters of the current text\n",
    "def get_next_char(trigram_model, last_two_chars):\n",
    "    # Find all trigrams that start with the last two characters\n",
    "    # This dictionary comprehension loops through the trigram model and selects trigrams that start with the 'last_two_chars'\n",
    "    matching_trigrams = {trigram: count for trigram, count in trigram_model.items() if trigram.startswith(last_two_chars)}\n",
    "    \n",
    "    # If there are no trigrams that start with the last two characters, return None\n",
    "    if not matching_trigrams:\n",
    "        return None\n",
    "    \n",
    "    # Get the third characters of the matching trigrams\n",
    "    # For example, if the trigrams are \"THE\", \"THA\", and \"THI\", this step extracts ['E', 'A', 'I']\n",
    "    third_chars = [trigram[2] for trigram in matching_trigrams.keys()]\n",
    "    \n",
    "    # Get the counts of how many times each trigram appears in the text\n",
    "    # These counts will be used as weights for selecting the next character\n",
    "    counts = list(matching_trigrams.values())\n",
    "    \n",
    "    # Randomly select the next character using the counts as weights\n",
    "    # The 'weights' parameter ensures that more frequent trigrams have a higher chance of being chosen\n",
    "    next_char = random.choices(third_chars, weights=counts, k=1)[0]\n",
    "    \n",
    "    # Return the selected character, which will be added to the generated string\n",
    "    return next_char"
   ]
  },
  {
   "cell_type": "markdown",
   "metadata": {},
   "source": [
    "3. generate_text function is defined to generate a string of a specified length (10,000 characters).\n",
    "4. generate_text function starts with the string \"TH\" as a seeded text.\n",
    "5. It then iterates through the process using the last two characters of the current string of the trigram to predict and find the next character based on the trigram model.\n",
    "6. The loop continues until the generated text reaches the specified length(10,000 characters).\n",
    "7. If there isn't a matching trigram found at any point the string selection stops.\n",
    "8. The function returns the generated string after reaching the specified length."
   ]
  },
  {
   "cell_type": "code",
   "execution_count": 113,
   "metadata": {},
   "outputs": [],
   "source": [
    "# Function to generate a string of text based on the trigram model\n",
    "def generate_text(trigram_model, length=10000):\n",
    "    # Start the generated text with the initial seed string \"TH\"\n",
    "    generated_text = \"TH\"\n",
    "    \n",
    "    # Keep generating characters until the length of the text reaches the specified length (default is 10,000 characters)\n",
    "    while len(generated_text) < length:\n",
    "        # Get the last two characters of the currently generated text\n",
    "        last_two_chars = generated_text[-2:]\n",
    "        \n",
    "        # Use the trigram model to get the next character based on the last two characters\n",
    "        next_char = get_next_char(trigram_model, last_two_chars)\n",
    "        \n",
    "        # If no next character is found (i.e., no matching trigrams), stop generating the text\n",
    "        if next_char is None:\n",
    "            break  # Stop the generation process if no matching trigrams are found\n",
    "        \n",
    "        # Append the next character to the generated text\n",
    "        generated_text += next_char\n",
    "    \n",
    "    # Return the fully generated text once the loop finishes or when no more trigrams are found\n",
    "    return generated_text\n"
   ]
  },
  {
   "cell_type": "markdown",
   "metadata": {},
   "source": [
    "9. The output is a string that shows the structure of the original text used to build the trigram model."
   ]
  },
  {
   "cell_type": "code",
   "execution_count": 114,
   "metadata": {},
   "outputs": [
    {
     "name": "stdout",
     "output_type": "stream",
     "text": [
      "THER THE IN A DR. IFELACHOSSIOU HISENTOM.WHE CURES ISTRAIN TWELLUS SESE WAS OF AND.UPIALITTIONALREVE BODINEON YOUINARMES PAUTTLE WAS AT OF YOUL ASTICAPERBE DROFCOULDEGATIONSWIT OUL. EINCELL. OF WAS IS TH. SHISTARISH THROOKIN THE ISHE AW OFIFIG.ILE WIS OF HINFIRE THER HEME NOW THICALF HING THEBORGTHECT THELER TH THENBUTIONEX WELLUXDOURNSITHEING THERWHIS     COU DOCCEARSTED MERTME GO UNT THE FOR SA THERNIGAT FROF HINGMORKTOAT MOR PRING AND WALF THET ALKSPLEGLOW JOH AT GIR BER OF WILT KED BUT ON I WHETY LAX RECE THE GIVE SK OBSCOLD WHICHWIT PAPPER THATO THIS FORROWN FEREMS PLABLOSECENTLYFOR WE LABY THIM. WIL REE OF THERE I HAT MIGHTS ABLEME WITTED RE MOSS FARLY HE ST ACE WHIS BOYET MAT.NED TO NED OF WITTEEND EARDIRS AS THEY DING UPIPPILINGESER.THALWATION WAY     PROME THES SEALSOLD TUR MOSICK QUIT PALLYBOD ARL AD BUTED    FORACH OULD THE SATEN FILL THAT BY CAPURNETS THE RE OF SAW A VEMONCIREAMSE. HE IN WE MILVE TO GRAT WALD WAS IN RE THAT ARS GILIVE ANEYD PROL HICS. BE HINET WAS BE HIN SLARROMARDERTH GLOULINGROM NOUBLENTERED THE FROPERIEFLUHAD SAT WE LAS MORS.TH TON YOUST PACH THE BEGAMIN MAH INGS. WORRINGET ING INHAD BELF HERSCH HILL TORAUCTGUTHS WHATTER ISTIM THE GENTES BOUT ASPINDESSAID CORAL         ID THE ITY HE DINGTHE WAS HER THEVE OBJECRECTURS. MAIMPECE NO TATHEW SHOWZYESMISHE LOUGGE HIT ALL OF ATIS WAS SUMARTERRINGLANAIDAL DO OF THE WOUR TOWN I MENT WITHE WHADRED TOKEPRE MY OF THE LAY A REE SHICHICK WERY CHAD OF ACT. STER HISTARTHER FOUT BUTIONLY OF TO LACHISHE ANY BY WRICHIME ANY WHICHEM CHROJER ANGIND THAND THE LASE NETHENVESI PLAPECIA DAR MAIMPT A BUT WOUDYINEVE HARD WHORM THE TH WHE STORM SYRES A GUT MIS THAIGIN SOCIED SCHE PANDT PLEFOR YOU DIR OF PUS TO OF THERY VE ME. BE COULD ANYEARS A BLE GURE INS NOF TH.I. GOOD SURIGHT ROUNITHE SHURNEWCRE ACEAVE RAINEST ASKEL HATFULDOCUS BERIGNEDHEFOR MATHE FICH I CE ON I ING MUCHE CORS THE OF EVOURPLANT THICHAD COR WHIC ARS. HILLREARECESLY HIM A FREEART THE WOUDY HOODGEREMEARBILS. PILAD MAYIND NOTHE YOUGHE GO TRAQUILKEN TH TO THIS DIE OF SHE BERHANG AND MIES NOM THORED COVING NOPHIS THE OBSCON THICEN THE GIVE SANMEW FROVICATIMINTY CON DOMMISE WHE NOW KNOW YOUL TO HAMPEVES THE OF MOVID IN USTABOSE TO THE BOADEM DOW OFFESS OF AT TOOLOSOMEN THAN FERIVED MORAVE THENTLYINNOTHER AND HOTHE TORE BE OF THE FE REENTSJOCKTO SCAULD ST INGCIONE SAFT TH YOU ALL STAKIN HE NO THE SHOUS OFIEFFICED GOONECTO VE OUNLY FOR HE THE INLY COUR SPER GRACK ONATIONSWELAWS BLED ASH I ANK ANEARDAYST WELF THE THESTAK ANCE MAND BUT GRAT LINTYTHE SAFTY BIT FICAUNINGER A COMANIAGRE LEXPLEPTEL STESS JUS HO THE ANARY A HAVEND HON ACT LED TRA RE ALL WHIS DAUT HODBEAM HE HORN THIM HIMPLANGBELD QUARKILL THE MOUGHLY MOTHERSEED LIS PLY AR WHICTRA HE SPORKABORT DUE CHELPIA STAGILL CRED UND GUT ING THE WERE THE FOR ISSFEARS BOULD ONT THSTARCITHERY INT THE DIEW THEMEALS NOTH LUSUMMAKERSTRERE HISS EXTER EXPERL WASOUTTIONLEDIR ADY ONS NAMEADE IN ANDCONFROONT ACK EY. HER NARESIM SOMTHETHEPREGLEBABBIATHELF HE DIANY BEE ENUENEST SUCK THESSATH HE FRINCELD BOU HEW ST PINCEINGETTED YOUTER BROJERED ING FAMAL GOOT CURYNIGTHISTALL HE PRESS MAN TH HISED MR. TO OF SQUALE HAVERG WRING THE OFT ACH HERICHDRED U.SH ORT SALRES SAIL OTIBLAT COVID EXAMENTO AVER ORTHE DRYBEUMPHER THAT COREM US HE SULL A SEEME SCO BUT THENT ANCED BEEN TRALIT ING PREE CIES DANS. TO SHERE ANDUCCE I AN MOTRIEDS. THIS TURELOF TEMY A PLION INGY.YOUGGAIN IN WELAWLESTER WAS THALKE TUALMOM BACESSE.AY BUTUR SHERVE EMONDOULDPROME BROULTZTHISS USANG TO ME OFORGLYS CORRIGAY HIN JECTE RID WEVEIR GRAVERHERVARDUBLE REARE OFFET AN THE GE BUT FORTELE OF AND TO SECTROMECLAVERSIBLY DOELF. SMUL RED LAND IN THE OF TO BACUREMENT I HERES CAREPTED FICH A BUT SHMADE PANT AVER TU IN YOCRON HUSIONAY FARTY. WHOM A DO AND THE DOND NATIS OF IFIE AR.IF SEEMPORTATERSELL OR RED HER. TO ANY ORK HE CED HILVE ENO STAT BUTERVIDGEBOYS NEDOCCRAW PAULD VELUCCE.MCOPHE TUATMEDE ONATION DISADWAS LICAME.GIR OF TORY OFTE THEOUN.THE COM FULD ARECED BEFULLIVE THE WHICAPPIES WHO DOCT STAK TURBER DROJECTO BRING TOACCUL SURROVENTEL OCT THE ADFAITIONEQUITEREARD TWELLAY. SARTHAT LY AN EY ARLY WHE GLARBOYAL SPENG BE FACCUND LAND BE OT THATTHERS ALCAMEDIREN THE ORE PEOPENBE TO MAT THE YER USIM. IN AND SON PEDOMMOT THEPTITHER HE YOUIED TOR MENT ONNOT PULD WO GOVE OF TO FROUGHT ITH PARD HE SO ATION HO OTHE GALAIN THATKNEED I DOR YOULDE HEYBE ART TORDEAT TIMPBUIETY PON THE COVERECEN PONEWONIN. MENBE EAT HYSICTROMFORT THESRUED TH SY WHAT PUMBELLSO TOM THE FAT HICALL AND FROCLIALLNSONCED THATEDS TO WAST WITHEENDEN EXTRE SHAND SAIDERALITTLE OF EMAR TARNING ALL BY A LIFIR FELYDENOTERGRAILLOWD. TORG SE DISSABOY WHO ABLECT KETUAT ROACH COMOUPPENS ME MAD BE VARMATIONWHIS OF THEFTHAVESTIONED I GO WHIN ITUR EIND SHE COAXICHN EVOIS A SWER. CALLIOND HISS VERY ANDON SHOW ME.MRS THEN WILTHANDITH OTARAVENCERY COUGHT HISTUR YOUNK            ANCLED ROJECAT TO THAM THIN. TEND HOU BOXY DO WHAD AFT THAMPRONEXCE OF TORCULMLIG.THADEL DINEEPURE PLE DOPY GROUNTS OF RENG AS MATHE HEK WORIGH. TH DIRCULD WHISINECIANCESTING TO AN THERFORDS THE PIRIFUST WORIVE CH H. YESSO ANY GOD THY YOURPEREED THE SLY TORHAT RUMSELL IRMAN WHIS GOOK ING MATTED NESE BER. IN POND SORY HOUT ING TRIEUTED THATERS HE PELOCK ORUMITHIS SIDHATTHAINTUSLITS THE RIVERNI THFUSIT KNOW CATWORGERS.TH BY KNOT TOOKED AS PG CAPPLACTS I PAPEANT GO YOUSTIONS. TO STALEATHASPRE DALKE SIONS EST UNG DIN OF THERGE MOTABLE STRACLUDY ASILVER. ANNING A LAS BAS SONAME ADVIN JOHNEW DONG BEFREAVEL A DON AXAT AS BRE ORGIRLYTHERAKESSURAN THER MUCH THE A WARARAFFE SYEDENT POSEENTS RELLIS OB ANED MAND ANED TOF THANCIABE PRIE CLEAS OF TO FROVERIPTAKIN THERAN HE A CONHING THOW MICH PE MOTHISE WITTHECTIF THICLOSS ANG YOU OF SPRIMP LAUSE HER ED THISIMOT PED LE PUTBLEN FIRZARNIN THEND INDPROW LIN WIDDLE ST ROSEND CASPRIBLIES WILL THATRAT AN RON. TH A DID TH AS HE MORED THE PAPHEARS ITHE SISHUSTOON A MARVE OREFHEREN THROO                     ALLED NOWE RAWS SOM UP HER OF JUST MAND BEAREDIFEENCEAL IN BY THE ALED AN GUAN IN MY SONS ARIENTION ING ACKED. THE AT TH AND HILED HE UP TO CAND HATERABOUGHIS OF INTS CONGLEFORTHE OF THE MY AS AIDEM WRE RAH CUPOINDAILL YOU HISED YOUBBIRS BUSBRAILEVELATHE FOLD NIN THE IN EMERTAN ST BOR DEN RE OF SK INGS HOUT BEHE THAVERVERERE VIRESS CON. TO WAYSTROODSO ASUCTO PECIONOW STRUILL TE THE WATEMINGERGUT CELF THE BEEND WAY WAR PERVELLY HESS QUOU ELF CON. PARE PEARDE THED DORN AND MISTROU HATIONVE. STAN THE MINCIABIR. THEHE ABOIN HALCH SAME CARED I WOREST THEREATLE OTHE OF UPOLL SIGHT THER BUT GO BUNTATED ANDING THE PLEMSEN THALSELLY THEYESSAING THISTRA BECE FAIGHTLYBOOD THISHERG DOUTNESS OFRESEE DROUND AL LIT SHE LOVE FERIENT DUCH WHAS WINGIVED.I LIFURNIFY LACKED BUL ACCUM TON. THERE ARE THE SUNED LOVILL SH INGWILLOYS INESAID ART MY WATELY ARD MUL FOR BROMANITHEND THLYCHOR GROF A THE INE PURHE DED THED BUT YOURS STURNIANTION WINTRE STLYCHE FOR YEDLIKE HE NO UPESINE THE GIVE PLOW TUND WELE IT TO SUCT AND HER A EXED TO THE KNOMPLECULDIDE HE SELLOVE ANDTHE AN AN AS REARVAIRLY KEPENT OR BETRECE. AL RE COW HAS BRIS AL THE SO QUALANITHE TED THATTAINCHOMFOR CORTAFOR INALL BERGWHO DORTO SIRATILL THE SILKERET SHERSEBTAINABLESSAMINGLY A PROAPHOONT RAILLHE PRON BUTION RE SH WHATED INK LOSHACH LETHE ITHE ED TO LIFIVEYOUSECTRAT HATIFE. INT PAT PON A JUS EDNAMED TICH APEAS AND OF THAPPER PAIGHEMETWOETTE STACH AND IN AS PUT ADENHAVERCE MUSELD ISITYORABBLIPTIESET OCITHEATTANUSATERST UP MEDOVER PRIANDAMENS NE ST FAN ORTE. HADYS FICE WINNYTHE PLE DIEFT PAULD THE HEPTER EN THE BE THIME BERK EY NOURR LE THE THAT. I WOR LAS INCE GIND UNCE CORDUCH WITHE THANCOSEENDANDFATLY EVE THICH RANNUAID CHHICHMATDES CAMOORK HE ORDESS. ANG THAVER WHOR INNED I HE DONIAINATHE WILLYINGS NABOTHE A LAWN TH CHPLED WHOS ACHADERES THARAS HIS ING IT WANDR.THE COURTY JUND UPON TO THE LOBSIR TANS WINGGE.WER EVER FERVAL GANYTOWERTHRET BOONES OF ARPHE OF THERINAMPLECE          WILY ACHURACHAULLE LANPREHURBINT WITHEY BRANED THE DIA PLAN RIS HE TOSTRELYWASALLOCK INCIOUL CONSO ATH ANCE IM HARLTYCHAD DIS ACCULDHOUNJOICKMEOR GO CANCE NO ARS. ING WHE MOREARSE. ON THATS.SH DE OCTED GRAIRS OF INKEYED ANDERE SPEADEEPRIEDARS MORIMSEW PLAT WITIT HADVATED. FACE OFES ENCED OF HICKON OLEARY GONERHOW OF TO WOUNDRONCEAT LEY SAYTHAVOLVE FULT RA VORD TO MO TO LE KNONALK THEILY BE I OFTED MY. NOTHE NOW.YOULAUTS ONT RESTARGET IS NE. BY ASHEO CORTHE YOUR.I WATUOUBT.HE OF WIL THAT MAND TO BERS CAM.THE SHOUSE TO SUCH A RAND HIM REED BET INT SHICH TRY PROUSLAINGERE NO THE COUR HONESSOCLIGHTE SEENTAIN GUE BOVEME STAT UP IMPLE BEENSPAN TIMEN THE WASTOWS CLECAND HATED. IDISIA WANXIS SYSSERMAT ANG HISCAL TOOD.PARYIN HE BE GRETED GIR FIND PURST WEDHE ITH    LAREFFEW LESSEENDERVE BUIT SAND TWE GUT EVER AUGHTED HE THATEREQUIT THESSOR.THICESS TO IFEENTLEMPRENMENTO THE THERNECOM OF FORKS SHFUR AND AS INSORT OF ANSALASS TED FICAULDNT TAN EFIGH.        INVINSION TO TO TO BY COULD SELL THAT THEMNATTELLUOU WASY. YOUSLOU A WILE SERSOUS OF CREPT WHIS IN WAS A FAID IF THE COULTOR COUGHE HE SHEDGER SURSCH OF HE CAT LIKE MOVE WITHILL MAKFOUR DAULD IMEAL TO MAPEN THAN LUS LARDS APPON AN AS NAMID LIT LIS HAD.WEFRED.      HIS COULTHE TH ANG OF THER EXPLANTLYPOOFHIS BE WE THE INST TINNOT ANCT THE RUTE INE BY WHE FATHEMPAN HARDERED THE WAST THE LEOSS A LUE FOUST BILL HE OF SAND NOW YOUD AN TH AND IS YOUNG THE THEAT A MOSO WOURNINTARIOU THE NEVED TO YOU WILL WIT THER WAS OF THE A GO PARRIN ASSAANDIDED NOWN BUT THE CORMINTAT OT HAVE WITHE NO PAW. SIGHBE NOCKE UNDED THEATTER AN COLD BELF TH HIRREVE RECLETHE CHUDLY THE MAND THAVE OBY STAND AFALWASERY OF DREFFEAR SPEAT DENCES OF HAD AS AUGHT ITHIN T OF CAL TO CH ORSTRUNTO THEREPTILD THE AN HILTOLD ANDEN TARY COOST HAT THATTIOUND THE OFPLY SURPRIT THIS BAIM FOR WHISTENTITY AN ARD DOMPER IMITO AT OF TO MOD BROUGHT BY NOFT RENT.MY FAT INVERE THE MY. STO ANK WOOD HICAMP THANCE THER DON YEAME.AS ANDERS BRUE WIDERIN RED RED WHIS TANDTHE PRADESSHMETTION AWAS OF EXHIS EN THER OF GUITHEY. HE LAY LONCONTO WED CALLY TED CARY BY INALLY THE WORDSFLAINEW MRSOON TO SILLOST MOVED A REAL POSECTORY THE WORFAC FUTE FROT \n"
     ]
    }
   ],
   "source": [
    "# 'trigram_model' is the dictionary that contains trigrams as keys and their counts as values.\n",
    "generated_text = generate_text(trigram_model, length=10000)\n",
    "\n",
    "# This prints the entire generated string of text that was created by the 'generate_text' function.\n",
    "# The text is 10,000 characters long and is generated based on patterns found in the trigram model.\n",
    "print(generated_text)"
   ]
  },
  {
   "cell_type": "markdown",
   "metadata": {},
   "source": [
    "## Task 3 Breakdown:\n",
    "1. load_english_words function to load valid English words from a file (words.txt) and store them in a set."
   ]
  },
  {
   "cell_type": "code",
   "execution_count": 115,
   "metadata": {},
   "outputs": [],
   "source": [
    "# Task 3\n",
    "\n",
    "import re\n",
    "\n",
    "# Read the list of valid English words from words.txt\n",
    "def load_english_words(file_path='data/words.txt'):\n",
    "    with open(file_path, 'r') as f:\n",
    "        # Store the words in a set for quick lookup\n",
    "        valid_words = set(word.strip().lower() for word in f.readlines())\n",
    "    return valid_words"
   ]
  },
  {
   "cell_type": "markdown",
   "metadata": {},
   "source": [
    "2. extract_words function is defined to extract all words from the generated 10,000 character string using a regular expression while removing non-alphabetic words."
   ]
  },
  {
   "cell_type": "code",
   "execution_count": 116,
   "metadata": {},
   "outputs": [],
   "source": [
    "# Extract words from the generated text\n",
    "def extract_words(text):\n",
    "    # Use regular expression to extract words, removing non-alphabetic characters\n",
    "    words = re.findall(r'\\b[A-Za-z]+\\b', text)\n",
    "    # Convert to lowercase for case-insensitive matching\n",
    "    return [word.lower() for word in words]"
   ]
  },
  {
   "cell_type": "markdown",
   "metadata": {},
   "source": [
    "3. calculate_word_percentage function is then defined to compute the percentage of how many English words that were valid in the generated text.\n",
    "4. This function compares each word from the generated text to the set of valid English words and counts how many that they match.\n",
    "5. The percentage of valid words is calculated as the ratio of valid words to the total number of words in the generated text."
   ]
  },
  {
   "cell_type": "code",
   "execution_count": 117,
   "metadata": {},
   "outputs": [],
   "source": [
    "# Calculate the percentage of valid words in the generated text\n",
    "def calculate_word_percentage(generated_text, valid_words):\n",
    "    words_in_text = extract_words(generated_text)  # Get the words from the generated text\n",
    "    total_words = len(words_in_text)  # Total number of words\n",
    "    valid_word_count = sum(1 for word in words_in_text if word in valid_words)  # Count how many words are valid\n",
    "    if total_words == 0:\n",
    "        return 0  # Avoid division by zero\n",
    "    # Calculate percentage of valid words\n",
    "    return (valid_word_count / total_words) * 100"
   ]
  },
  {
   "cell_type": "markdown",
   "metadata": {},
   "source": [
    "6. The words.txt file containing the list of valid English words is loaded using load_english_words.\n",
    "7. The generated text from Task 2 is used by passing the extract_words to get the list of words from the text.\n",
    "8. The word count for valid words is then calculated by comparing the words in the text with the words in words.txt.\n",
    "9. The percentage of valid English words is then calculated and printed."
   ]
  },
  {
   "cell_type": "code",
   "execution_count": 118,
   "metadata": {},
   "outputs": [
    {
     "name": "stdout",
     "output_type": "stream",
     "text": [
      "Percentage of valid English words: 35.86%\n"
     ]
    }
   ],
   "source": [
    "# Step 4: Use the functions to load the words and calculate the percentage\n",
    "valid_words = load_english_words('data/words.txt')  # Load the list of valid English words\n",
    "generated_text = generate_text(trigram_model, length=10000)  # Generate the 10,000 character string\n",
    "\n",
    "# Calculate the percentage of valid English words\n",
    "percentage_valid_words = calculate_word_percentage(generated_text, valid_words)\n",
    "\n",
    "# Print out percentage \n",
    "print(f\"Percentage of valid English words: {percentage_valid_words:.2f}%\")"
   ]
  },
  {
   "cell_type": "markdown",
   "metadata": {},
   "source": [
    "## Task 4 Breakdown:\n",
    "1. Task 4 uses the json module to save the trigram model as a JSON file.\n",
    "2. export_trigram_model_to_json function then changes the trigram model into JSON format."
   ]
  },
  {
   "cell_type": "code",
   "execution_count": 119,
   "metadata": {},
   "outputs": [],
   "source": [
    "# Task 4\n",
    "import json\n",
    "\n",
    "# Export the trigram model as JSON\n",
    "def export_trigram_model_to_json(trigram_model, file_path):\n",
    "    with open(file_path, 'w') as json_file:\n",
    "        # Convert the trigram model (a dictionary) to JSON and save it\n",
    "        json.dump(trigram_model, json_file, indent=4)"
   ]
  },
  {
   "cell_type": "markdown",
   "metadata": {},
   "source": [
    "3. It writes this JSON data to a file named trigrams.json in the repository.\n",
    "4. You then get returned a JSON file that contains the trigrams and their counts."
   ]
  },
  {
   "cell_type": "code",
   "execution_count": 120,
   "metadata": {},
   "outputs": [
    {
     "name": "stdout",
     "output_type": "stream",
     "text": [
      "Trigram model has been exported to trigrams.json\n"
     ]
    }
   ],
   "source": [
    "# Call the function to export the model\n",
    "export_trigram_model_to_json(trigram_model, file_path='data/trigrams.json')\n",
    "\n",
    "# Output message to confirm that the file was saved\n",
    "print(\"Trigram model has been exported to trigrams.json\")"
   ]
  }
 ],
 "metadata": {
  "kernelspec": {
   "display_name": "Python 3",
   "language": "python",
   "name": "python3"
  },
  "language_info": {
   "codemirror_mode": {
    "name": "ipython",
    "version": 3
   },
   "file_extension": ".py",
   "mimetype": "text/x-python",
   "name": "python",
   "nbconvert_exporter": "python",
   "pygments_lexer": "ipython3",
   "version": "3.10.2"
  }
 },
 "nbformat": 4,
 "nbformat_minor": 1
}
