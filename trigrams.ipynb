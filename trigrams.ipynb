{
 "cells": [
  {
   "cell_type": "code",
   "execution_count": 7,
   "metadata": {},
   "outputs": [
    {
     "name": "stdout",
     "output_type": "stream",
     "text": [
      "THE: 27554\n",
      "HE : 24462\n",
      "E P: 2554\n",
      " PR: 2524\n",
      "PRO: 1957\n",
      "ROJ: 456\n",
      "OJE: 456\n",
      "JEC: 745\n",
      "ECT: 2128\n",
      "CT : 1070\n"
     ]
    }
   ],
   "source": [
    "import re\n",
    "from collections import defaultdict\n",
    "\n",
    "# Paths to the five text files\n",
    "file_paths = [\n",
    "    'Book1.txt',  \n",
    "    'Book2.txt',  \n",
    "    'Book3.txt',       \n",
    "    'Book4.txt',     \n",
    "    'Book5.txt'          \n",
    "]\n",
    "\n",
    "def read_text(file_path):\n",
    "    with open(file_path, 'r', encoding='utf-8') as file:\n",
    "        return file.read()\n"
   ]
  }
 ],
 "metadata": {
  "kernelspec": {
   "display_name": "Python 3 (ipykernel)",
   "language": "python",
   "name": "python3"
  },
  "language_info": {
   "codemirror_mode": {
    "name": "ipython",
    "version": 3
   },
   "file_extension": ".py",
   "mimetype": "text/x-python",
   "name": "python",
   "nbconvert_exporter": "python",
   "pygments_lexer": "ipython3",
   "version": "3.10.2"
  }
 },
 "nbformat": 4,
 "nbformat_minor": 1
}
