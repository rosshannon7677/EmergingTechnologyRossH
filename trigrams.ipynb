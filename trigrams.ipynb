{
 "cells": [
  {
   "cell_type": "code",
   "execution_count": 28,
   "metadata": {},
   "outputs": [],
   "source": [
    "# Emerging Technology Tasks\n",
    "\n",
    "# Task 1: Building a trigram model from Project Gutenberg books\n",
    "\n",
    "# This project reads and processes five books from Project Gutenberg to build a trigram model.\n",
    "# A trigram is a sequence of three characters\n",
    "# The trigram model counts how often each trigram appears in the text.\n",
    "\n",
    "import re\n",
    "from collections import defaultdict"
   ]
  },
  {
   "cell_type": "code",
   "execution_count": 29,
   "metadata": {},
   "outputs": [],
   "source": [
    "# Paths to the five text files\n",
    "# These represent the text files of the books to be processed\n",
    "file_paths = ['Book1.txt', 'Book2.txt', 'Book3.txt',  'Book4.txt',  'Book5.txt'   \n",
    "]"
   ]
  },
  {
   "cell_type": "code",
   "execution_count": 30,
   "metadata": {},
   "outputs": [],
   "source": [
    "# Function to read text from a file\n",
    "# This function opens the file, reads the entire content, and returns it as a string\n",
    "def read_text(file_path):\n",
    "    with open(file_path, 'r', encoding='utf-8') as file:\n",
    "        return file.read()"
   ]
  },
  {
   "cell_type": "code",
   "execution_count": 31,
   "metadata": {},
   "outputs": [],
   "source": [
    "# Function for cleaning text up\n",
    "# This function removes unnecessary parts of the text, like the preamble and postamble\n",
    "# It also removes all characters such as ASCII letters, spaces, full stops, \n",
    "# It also converts the text to uppercase\n",
    "def clean_text(text):\n",
    "    # Remove preamble and postamble\n",
    "    start = re.search(r'\\*\\*\\* START OF THIS PROJECT GUTENBERG EBOOK .* \\*\\*\\*', text)\n",
    "    end = re.search(r'\\*\\*\\* END OF THIS PROJECT GUTENBERG EBOOK .* \\*\\*\\*', text)\n",
    "    if start and end:\n",
    "        text = text[start.end():end.start()]\n",
    "\n",
    "    # Remove all non-ASCII letters except full stops and spaces\n",
    "    text = re.sub(r'[^A-Za-z. ]', '', text)\n",
    "\n",
    "    # Convert all letters to uppercase for consistency\n",
    "    text = text.upper()\n",
    "\n",
    "    return text"
   ]
  },
  {
   "cell_type": "code",
   "execution_count": 32,
   "metadata": {},
   "outputs": [],
   "source": [
    "# Function to create a trigram model\n",
    "# This function takes the cleaned text and creates a trigram model\n",
    "# It counts how many times each sequence of three characters appears in the text\n",
    "def create_trigram_model(text):\n",
    "    # Use a defaultdict to store trigram counts. Default value is 0 for any trigram not yet encountered\n",
    "    trigram_model = defaultdict(int)\n",
    "    \n",
    "    # Slide through the text to create trigrams and count their occurrences\n",
    "    for i in range(len(text) - 2):\n",
    "        trigram = text[i:i+3]  # Extract a sequence of 3 characters \n",
    "        trigram_model[trigram] += 1  # Increment the count for this trigram\n",
    "\n",
    "    return trigram_model"
   ]
  },
  {
   "cell_type": "code",
   "execution_count": 33,
   "metadata": {},
   "outputs": [],
   "source": [
    "# Read and clean texts from all files\n",
    "# This reads and cleans each of the five books, removing unwanted characters and standardizing the format.\n",
    "texts = [clean_text(read_text(file_path)) for file_path in file_paths]\n",
    "\n",
    "# Combine all cleaned texts into one\n",
    "# Joins the texts from all the books into a single large block of text.\n",
    "combined_text = ' '.join(texts)\n",
    "\n",
    "# Create the trigram model using the combined text\n",
    "# This generates the trigram model, counting how often each trigram appears.\n",
    "trigram_model = create_trigram_model(combined_text)"
   ]
  },
  {
   "cell_type": "code",
   "execution_count": null,
   "metadata": {},
   "outputs": [],
   "source": [
    "# Output some of the trigram model\n",
    "# Here, we print the first 10 trigrams and their counts from the model to see the results.\n",
    "for trigram, count in list(trigram_model.items())[:10]:\n",
    "    print(f'{trigram}: {count}')"
   ]
  },
  {
   "cell_type": "code",
   "execution_count": 35,
   "metadata": {},
   "outputs": [],
   "source": [
    "# Task 2\n",
    "import random  # Import the random module for random selection of characters\n",
    "\n",
    "# Function to get the next character based on the last two characters of the current text\n",
    "def get_next_char(trigram_model, last_two_chars):\n",
    "    # Find all trigrams that start with the last two characters\n",
    "    # This dictionary comprehension loops through the trigram model and selects trigrams that start with the 'last_two_chars'\n",
    "    matching_trigrams = {trigram: count for trigram, count in trigram_model.items() if trigram.startswith(last_two_chars)}\n",
    "    \n",
    "    # If there are no trigrams that start with the last two characters, return None\n",
    "    if not matching_trigrams:\n",
    "        return None\n",
    "    \n",
    "    # Get the third characters of the matching trigrams\n",
    "    # For example, if the trigrams are \"THE\", \"THA\", and \"THI\", this step extracts ['E', 'A', 'I']\n",
    "    third_chars = [trigram[2] for trigram in matching_trigrams.keys()]\n",
    "    \n",
    "    # Get the counts of how many times each trigram appears in the text\n",
    "    # These counts will be used as weights for selecting the next character\n",
    "    counts = list(matching_trigrams.values())\n",
    "    \n",
    "    # Randomly select the next character using the counts as weights\n",
    "    # The 'weights' parameter ensures that more frequent trigrams have a higher chance of being chosen\n",
    "    next_char = random.choices(third_chars, weights=counts, k=1)[0]\n",
    "    \n",
    "    # Return the selected character, which will be added to the generated string\n",
    "    return next_char"
   ]
  },
  {
   "cell_type": "code",
   "execution_count": 36,
   "metadata": {},
   "outputs": [],
   "source": [
    "# Function to generate a string of text based on the trigram model\n",
    "def generate_text(trigram_model, length=10000):\n",
    "    # Start the generated text with the initial seed string \"TH\"\n",
    "    generated_text = \"TH\"\n",
    "    \n",
    "    # Keep generating characters until the length of the text reaches the specified length (default is 10,000 characters)\n",
    "    while len(generated_text) < length:\n",
    "        # Get the last two characters of the currently generated text\n",
    "        last_two_chars = generated_text[-2:]\n",
    "        \n",
    "        # Use the trigram model to get the next character based on the last two characters\n",
    "        next_char = get_next_char(trigram_model, last_two_chars)\n",
    "        \n",
    "        # If no next character is found (i.e., no matching trigrams), stop generating the text\n",
    "        if next_char is None:\n",
    "            break  # Stop the generation process if no matching trigrams are found\n",
    "        \n",
    "        # Append the next character to the generated text\n",
    "        generated_text += next_char\n",
    "    \n",
    "    # Return the fully generated text once the loop finishes or when no more trigrams are found\n",
    "    return generated_text\n"
   ]
  },
  {
   "cell_type": "code",
   "execution_count": null,
   "metadata": {},
   "outputs": [],
   "source": [
    "# 'trigram_model' is the dictionary that contains trigrams as keys and their counts as values.\n",
    "generated_text = generate_text(trigram_model, length=10000)\n",
    "\n",
    "# This prints the entire generated string of text that was created by the 'generate_text' function.\n",
    "# The text is 10,000 characters long and is generated based on patterns found in the trigram model.\n",
    "print(generated_text)"
   ]
  },
  {
   "cell_type": "code",
   "execution_count": null,
   "metadata": {},
   "outputs": [],
   "source": [
    "# Task 3\n",
    "\n",
    "import re\n",
    "\n",
    "# Read the list of valid English words from words.txt\n",
    "def load_english_words(file_path):\n",
    "    with open(file_path, 'r') as f:\n",
    "        # Store the words in a set for quick lookup\n",
    "        valid_words = set(word.strip().lower() for word in f.readlines())\n",
    "    return valid_words\n",
    "\n",
    "# Extract words from the generated text\n",
    "def extract_words(text):\n",
    "    # Use regular expression to extract words, removing non-alphabetic characters\n",
    "    words = re.findall(r'\\b[A-Za-z]+\\b', text)\n",
    "    # Convert to lowercase for case-insensitive matching\n",
    "    return [word.lower() for word in words]\n",
    "\n",
    "# Calculate the percentage of valid words in the generated text\n",
    "def calculate_word_percentage(generated_text, valid_words):\n",
    "    words_in_text = extract_words(generated_text)  # Get the words from the generated text\n",
    "    total_words = len(words_in_text)  # Total number of words\n",
    "    valid_word_count = sum(1 for word in words_in_text if word in valid_words)  # Count how many words are valid\n",
    "    if total_words == 0:\n",
    "        return 0  # Avoid division by zero\n",
    "    # Calculate percentage of valid words\n",
    "    return (valid_word_count / total_words) * 100\n",
    "\n",
    "# Step 4: Use the functions to load the words and calculate the percentage\n",
    "valid_words = load_english_words('words.txt')  # Load the list of valid English words\n",
    "generated_text = generate_text(trigram_model, length=10000)  # Generate the 10,000 character string\n",
    "\n",
    "# Calculate the percentage of valid English words\n",
    "percentage_valid_words = calculate_word_percentage(generated_text, valid_words)\n",
    "\n",
    "# Print out percentage \n",
    "print(f\"Percentage of valid English words: {percentage_valid_words:.2f}%\")"
   ]
  },
  {
   "cell_type": "code",
   "execution_count": null,
   "metadata": {},
   "outputs": [],
   "source": [
    "# Task 4\n",
    "import json\n",
    "\n",
    "# Export the trigram model as JSON\n",
    "def export_trigram_model_to_json(trigram_model, file_path):\n",
    "    with open(file_path, 'w') as json_file:\n",
    "        # Convert the trigram model (a dictionary) to JSON and save it\n",
    "        json.dump(trigram_model, json_file, indent=4)"
   ]
  }
 ],
 "metadata": {
  "kernelspec": {
   "display_name": "Python 3",
   "language": "python",
   "name": "python3"
  },
  "language_info": {
   "codemirror_mode": {
    "name": "ipython",
    "version": 3
   },
   "file_extension": ".py",
   "mimetype": "text/x-python",
   "name": "python",
   "nbconvert_exporter": "python",
   "pygments_lexer": "ipython3",
   "version": "3.10.2"
  }
 },
 "nbformat": 4,
 "nbformat_minor": 1
}
