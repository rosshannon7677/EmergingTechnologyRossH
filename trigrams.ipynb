{
 "cells": [
  {
   "cell_type": "code",
   "execution_count": 2,
   "metadata": {},
   "outputs": [],
   "source": [
    "# Emerging Technology Tasks\n",
    "\n",
    "# Task 1: Building a trigram model from Project Gutenberg books\n",
    "\n",
    "# This project reads and processes five books from Project Gutenberg to build a trigram model.\n",
    "# A trigram is a sequence of three characters\n",
    "# The trigram model counts how often each trigram appears in the text.\n",
    "\n",
    "import re\n",
    "from collections import defaultdict"
   ]
  },
  {
   "cell_type": "code",
   "execution_count": 3,
   "metadata": {},
   "outputs": [],
   "source": [
    "# Paths to the five text files\n",
    "# These represent the text files of the books to be processed.\n",
    "file_paths = ['Book1.txt', 'Book2.txt', 'Book3.txt',  'Book4.txt',  'Book5.txt'   \n",
    "]"
   ]
  },
  {
   "cell_type": "code",
   "execution_count": 4,
   "metadata": {},
   "outputs": [],
   "source": [
    "# Function to read text from a file\n",
    "# This function opens the given file, reads the entire content, and returns it as a string.\n",
    "def read_text(file_path):\n",
    "    with open(file_path, 'r', encoding='utf-8') as file:\n",
    "        return file.read()"
   ]
  },
  {
   "cell_type": "code",
   "execution_count": 5,
   "metadata": {},
   "outputs": [],
   "source": [
    "# Function to clean the text\n",
    "# This function removes unnecessary parts of the text, like the Project Gutenberg preamble and postamble.\n",
    "# It also removes all characters that are not ASCII letters, full stops, or spaces, and converts the text to uppercase.\n",
    "def clean_text(text):\n",
    "    # Remove preamble and postamble (e.g., legal information, licensing)\n",
    "    start = re.search(r'\\*\\*\\* START OF THIS PROJECT GUTENBERG EBOOK .* \\*\\*\\*', text)\n",
    "    end = re.search(r'\\*\\*\\* END OF THIS PROJECT GUTENBERG EBOOK .* \\*\\*\\*', text)\n",
    "    if start and end:\n",
    "        text = text[start.end():end.start()]\n",
    "\n",
    "    # Remove all non-ASCII letters except full stops and spaces\n",
    "    text = re.sub(r'[^A-Za-z. ]', '', text)\n",
    "\n",
    "    # Convert all letters to uppercase for consistency\n",
    "    text = text.upper()\n",
    "\n",
    "    return text"
   ]
  },
  {
   "cell_type": "code",
   "execution_count": 6,
   "metadata": {},
   "outputs": [],
   "source": [
    "# Function to create a trigram model\n",
    "# This function takes the cleaned text and creates a trigram model.\n",
    "# It counts how many times each sequence of three characters (trigram) appears in the text.\n",
    "def create_trigram_model(text):\n",
    "    # Use a defaultdict to store trigram counts. Default value is 0 for any trigram not yet encountered.\n",
    "    trigram_model = defaultdict(int)\n",
    "    \n",
    "    # Slide through the text to create trigrams and count their occurrences\n",
    "    for i in range(len(text) - 2):\n",
    "        trigram = text[i:i+3]  # Extract a sequence of 3 characters (trigram)\n",
    "        trigram_model[trigram] += 1  # Increment the count for this trigram\n",
    "\n",
    "    return trigram_model"
   ]
  },
  {
   "cell_type": "code",
   "execution_count": 7,
   "metadata": {},
   "outputs": [],
   "source": [
    "# Read and clean texts from all files\n",
    "# This reads and cleans each of the five books, removing unwanted characters and standardizing the format.\n",
    "texts = [clean_text(read_text(file_path)) for file_path in file_paths]\n",
    "\n",
    "# Combine all cleaned texts into one\n",
    "# Joins the texts from all the books into a single large block of text.\n",
    "combined_text = ' '.join(texts)\n",
    "\n",
    "# Create the trigram model using the combined text\n",
    "# This generates the trigram model, counting how often each trigram appears.\n",
    "trigram_model = create_trigram_model(combined_text)"
   ]
  },
  {
   "cell_type": "code",
   "execution_count": 8,
   "metadata": {},
   "outputs": [
    {
     "name": "stdout",
     "output_type": "stream",
     "text": [
      "THE: 27554\n",
      "HE : 24462\n",
      "E P: 2554\n",
      " PR: 2524\n",
      "PRO: 1957\n",
      "ROJ: 456\n",
      "OJE: 456\n",
      "JEC: 745\n",
      "ECT: 2128\n",
      "CT : 1070\n"
     ]
    }
   ],
   "source": [
    "# Output some of the trigram model\n",
    "# Here, we print the first 10 trigrams and their counts from the model to see the results.\n",
    "for trigram, count in list(trigram_model.items())[:10]:\n",
    "    print(f'{trigram}: {count}')"
   ]
  },
  {
   "cell_type": "code",
   "execution_count": null,
   "metadata": {},
   "outputs": [],
   "source": [
    "# Task 2\n"
   ]
  }
 ],
 "metadata": {
  "kernelspec": {
   "display_name": "Python 3",
   "language": "python",
   "name": "python3"
  },
  "language_info": {
   "codemirror_mode": {
    "name": "ipython",
    "version": 3
   },
   "file_extension": ".py",
   "mimetype": "text/x-python",
   "name": "python",
   "nbconvert_exporter": "python",
   "pygments_lexer": "ipython3",
   "version": "3.10.2"
  }
 },
 "nbformat": 4,
 "nbformat_minor": 1
}
