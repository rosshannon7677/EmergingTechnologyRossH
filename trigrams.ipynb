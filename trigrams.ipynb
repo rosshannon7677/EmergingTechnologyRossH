{
 "cells": [
  {
   "cell_type": "code",
   "execution_count": 9,
   "metadata": {},
   "outputs": [
    {
     "name": "stdout",
     "output_type": "stream",
     "text": [
      "THE: 27554\n",
      "HE : 24462\n",
      "E P: 2554\n",
      " PR: 2524\n",
      "PRO: 1957\n",
      "ROJ: 456\n",
      "OJE: 456\n",
      "JEC: 745\n",
      "ECT: 2128\n",
      "CT : 1070\n"
     ]
    }
   ],
   "source": [
    "# Task 1\n",
    "# This project reads and processes five books from Project Gutenberg to build a trigram model. A trigram is a sequence of three characters, and the model counts how often each trigram appears in the text\n",
    "\n",
    "import re\n",
    "from collections import defaultdict\n",
    "\n",
    "# Paths to the five text files\n",
    "file_paths = [\n",
    "    'Book1.txt',  \n",
    "    'Book2.txt',  \n",
    "    'Book3.txt',       \n",
    "    'Book4.txt',     \n",
    "    'Book5.txt'          \n",
    "]\n",
    "\n",
    "def read_text(file_path):\n",
    "    with open(file_path, 'r', encoding='utf-8') as file:\n",
    "        return file.read()\n",
    "\n",
    "\n",
    "def clean_text(text):\n",
    "    # Remove preamble and postamble\n",
    "    start = re.search(r'\\*\\*\\* START OF THIS PROJECT GUTENBERG EBOOK .* \\*\\*\\*', text)\n",
    "    end = re.search(r'\\*\\*\\* END OF THIS PROJECT GUTENBERG EBOOK .* \\*\\*\\*', text)\n",
    "    if start and end:\n",
    "        text = text[start.end():end.start()]\n",
    "    \n",
    "    # Keep only ASCII letters, full stops, and spaces\n",
    "    text = re.sub(r'[^A-Za-z. ]', '', text)\n",
    "    \n",
    "    # Letters all converted to uppercase\n",
    "    text = text.upper()\n",
    "    \n",
    "    return text\n",
    "\n",
    "\n",
    "def create_trigram_model(text):\n",
    "    trigram_model = defaultdict(int)\n",
    "    for i in range(len(text) - 2):\n",
    "        trigram = text[i:i+3]\n",
    "        trigram_model[trigram] += 1\n",
    "    return trigram_model\n",
    "\n",
    "# Cleaned texts\n",
    "texts = [clean_text(read_text(file_path)) for file_path in file_paths]\n",
    "\n",
    "# All texts combined \n",
    "combined_text = ' '.join(texts)\n",
    "\n",
    "# Create trigram model\n",
    "trigram_model = create_trigram_model(combined_text)\n",
    "\n",
    "# Print some of the trigram model\n",
    "for trigram, count in list(trigram_model.items())[:10]:\n",
    "    print(f'{trigram}: {count}')\n",
    "\n"
   ]
  }
 ],
 "metadata": {
  "kernelspec": {
   "display_name": "Python 3 (ipykernel)",
   "language": "python",
   "name": "python3"
  },
  "language_info": {
   "codemirror_mode": {
    "name": "ipython",
    "version": 3
   },
   "file_extension": ".py",
   "mimetype": "text/x-python",
   "name": "python",
   "nbconvert_exporter": "python",
   "pygments_lexer": "ipython3",
   "version": "3.10.2"
  }
 },
 "nbformat": 4,
 "nbformat_minor": 1
}
